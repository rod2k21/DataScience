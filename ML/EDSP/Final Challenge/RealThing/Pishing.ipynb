{
  "cells": [
    {
      "cell_type": "markdown",
      "source": [
        "![image-alt-text](PoweredByAzure.png)\n",
        "\n"
      ],
      "metadata": {}
    },
    {
      "cell_type": "markdown",
      "source": [
        "# Case Study: Phishing Attack -Binary Classification-"
      ],
      "metadata": {
        "nteract": {
          "transient": {
            "deleting": false
          }
        }
      }
    },
    {
      "cell_type": "markdown",
      "source": [
        "    Import libraries"
      ],
      "metadata": {
        "nteract": {
          "transient": {
            "deleting": false
          }
        }
      }
    },
    {
      "cell_type": "code",
      "source": [
        "#Data Processing\r\n",
        "import pandas as pd\r\n",
        "import numpy as np\r\n",
        "import seaborn as sns\r\n",
        "#ML Algorithms & Metrics\r\n",
        "from sklearn.model_selection import train_test_split\r\n",
        "from sklearn.linear_model import LogisticRegression\r\n",
        "from sklearn.svm import SVC\r\n",
        "from sklearn.neighbors import KNeighborsClassifier\r\n",
        "from sklearn.metrics import accuracy_score\r\n",
        "from sklearn. metrics import classification_report\r\n",
        "from sklearn.metrics import precision_score, recall_score\r\n",
        "from sklearn.metrics import confusion_matrix\r\n",
        "from sklearn.metrics import roc_curve\r\n",
        "from sklearn.metrics import roc_auc_score\r\n",
        "from sklearn.ensemble import RandomForestClassifier\r\n",
        "from sklearn.feature_selection import SelectFromModel\r\n",
        "#Visualization\r\n",
        "import matplotlib\r\n",
        "import matplotlib.pyplot as plt\r\n",
        "#Preprocessing Pipeline\r\n",
        "from sklearn.compose import ColumnTransformer\r\n",
        "from sklearn.pipeline import Pipeline\r\n",
        "from sklearn.preprocessing import StandardScaler, OneHotEncoder\r\n",
        "#Deployment\r\n",
        "import joblib\r\n",
        "import sklearn\r\n",
        "from azureml.core import Workspace\r\n",
        "from azureml.core import Model\r\n",
        "from azureml.core.resource_configuration import ResourceConfiguration\r\n",
        "import json\r\n",
        "import pickle\r\n",
        "import os\r\n",
        "import joblib\r\n",
        "from azureml.core.model import Model\r\n",
        "from inference_schema.schema_decorators import input_schema, output_schema\r\n",
        "from inference_schema.parameter_types.numpy_parameter_type import NumpyParameterType\r\n",
        "from inference_schema.parameter_types.pandas_parameter_type import PandasParameterType\r\n",
        "from datetime import datetime\r\n",
        "from azureml.core import Environment\r\n",
        "from azureml.core.conda_dependencies import CondaDependencies\r\n",
        "from azureml.core.model import Model, InferenceConfig\r\n",
        "from azureml.core.webservice import AciWebservice, Webservice\r\n",
        "from azureml.core.model import Model"
      ],
      "outputs": [],
      "execution_count": 1,
      "metadata": {
        "jupyter": {
          "source_hidden": false,
          "outputs_hidden": false
        },
        "nteract": {
          "transient": {
            "deleting": false
          }
        }
      }
    },
    {
      "cell_type": "markdown",
      "source": [
        "    Defining General Purpose Functions"
      ],
      "metadata": {
        "nteract": {
          "transient": {
            "deleting": false
          }
        }
      }
    },
    {
      "cell_type": "code",
      "source": [
        "def percentage(part, whole):\r\n",
        "  percentage = 100 * float(part)/float(whole)\r\n",
        "  return str(percentage) + \"%\"\r\n",
        "\r\n",
        "print(percentage(3, 5))"
      ],
      "outputs": [
        {
          "output_type": "stream",
          "name": "stdout",
          "text": "60.0%\n"
        }
      ],
      "execution_count": 2,
      "metadata": {
        "jupyter": {
          "source_hidden": false,
          "outputs_hidden": false
        },
        "nteract": {
          "transient": {
            "deleting": false
          }
        }
      }
    },
    {
      "cell_type": "markdown",
      "source": [
        "###     Acquiring & Understanding data\r\n",
        "        loading a CSV file"
      ],
      "metadata": {
        "nteract": {
          "transient": {
            "deleting": false
          }
        }
      }
    },
    {
      "cell_type": "code",
      "source": [
        "# load the employee info dataset\n",
        "phishingattack = pd.read_csv('training_dataset.csv')\n",
        "phishingattack.head()\n"
      ],
      "outputs": [
        {
          "output_type": "execute_result",
          "execution_count": 3,
          "data": {
            "text/plain": "   EmployeeTargetedOverPastYear  IT Touchpoints  behaviorPattern3  \\\n0                           1.0               2                 2   \n1                           0.0               0                 3   \n2                           1.0               0                 0   \n3                           1.0               6                 0   \n4                           1.0               0                 0   \n\n   behaviorPattern4  behaviorPattern5  fraudTraining Completed  \\\n0                 5                 4                        1   \n1                 1                 3                        0   \n2                 1                 6                        1   \n3                 5                 0                        0   \n4                 2                 1                        0   \n\n   peerUsageMetric4  peerUsageMetric6  usageMetric2  usageMetric3  \\\n0                 3                 0             2             0   \n1                 1                 1             2             2   \n2                 2                 0             3             0   \n3                 3                 1             3             1   \n4                 4                 1             0             0   \n\n   usageMetric5  \n0             2  \n1             2  \n2             1  \n3             1  \n4             0  ",
            "text/html": "<div>\n<style scoped>\n    .dataframe tbody tr th:only-of-type {\n        vertical-align: middle;\n    }\n\n    .dataframe tbody tr th {\n        vertical-align: top;\n    }\n\n    .dataframe thead th {\n        text-align: right;\n    }\n</style>\n<table border=\"1\" class=\"dataframe\">\n  <thead>\n    <tr style=\"text-align: right;\">\n      <th></th>\n      <th>EmployeeTargetedOverPastYear</th>\n      <th>IT Touchpoints</th>\n      <th>behaviorPattern3</th>\n      <th>behaviorPattern4</th>\n      <th>behaviorPattern5</th>\n      <th>fraudTraining Completed</th>\n      <th>peerUsageMetric4</th>\n      <th>peerUsageMetric6</th>\n      <th>usageMetric2</th>\n      <th>usageMetric3</th>\n      <th>usageMetric5</th>\n    </tr>\n  </thead>\n  <tbody>\n    <tr>\n      <th>0</th>\n      <td>1.0</td>\n      <td>2</td>\n      <td>2</td>\n      <td>5</td>\n      <td>4</td>\n      <td>1</td>\n      <td>3</td>\n      <td>0</td>\n      <td>2</td>\n      <td>0</td>\n      <td>2</td>\n    </tr>\n    <tr>\n      <th>1</th>\n      <td>0.0</td>\n      <td>0</td>\n      <td>3</td>\n      <td>1</td>\n      <td>3</td>\n      <td>0</td>\n      <td>1</td>\n      <td>1</td>\n      <td>2</td>\n      <td>2</td>\n      <td>2</td>\n    </tr>\n    <tr>\n      <th>2</th>\n      <td>1.0</td>\n      <td>0</td>\n      <td>0</td>\n      <td>1</td>\n      <td>6</td>\n      <td>1</td>\n      <td>2</td>\n      <td>0</td>\n      <td>3</td>\n      <td>0</td>\n      <td>1</td>\n    </tr>\n    <tr>\n      <th>3</th>\n      <td>1.0</td>\n      <td>6</td>\n      <td>0</td>\n      <td>5</td>\n      <td>0</td>\n      <td>0</td>\n      <td>3</td>\n      <td>1</td>\n      <td>3</td>\n      <td>1</td>\n      <td>1</td>\n    </tr>\n    <tr>\n      <th>4</th>\n      <td>1.0</td>\n      <td>0</td>\n      <td>0</td>\n      <td>2</td>\n      <td>1</td>\n      <td>0</td>\n      <td>4</td>\n      <td>1</td>\n      <td>0</td>\n      <td>0</td>\n      <td>0</td>\n    </tr>\n  </tbody>\n</table>\n</div>"
          },
          "metadata": {}
        }
      ],
      "execution_count": 3,
      "metadata": {
        "scrolled": false,
        "gather": {
          "logged": 1647554282353
        }
      }
    },
    {
      "cell_type": "markdown",
      "source": [
        "    Data Exploration"
      ],
      "metadata": {
        "nteract": {
          "transient": {
            "deleting": false
          }
        }
      }
    },
    {
      "cell_type": "markdown",
      "source": [
        "![image-alt-text](DataExploration.png)"
      ],
      "metadata": {
        "nteract": {
          "transient": {
            "deleting": false
          }
        }
      }
    },
    {
      "cell_type": "markdown",
      "source": [
        "        Dataset info"
      ],
      "metadata": {
        "nteract": {
          "transient": {
            "deleting": false
          }
        }
      }
    },
    {
      "cell_type": "code",
      "source": [
        "print ('Total cases: %d' % (phishingattack.shape[0]))\n",
        "print('\\nDimensionality:' , phishingattack.shape)\n",
        "print('\\nColumns: %s' % phishingattack.columns)"
      ],
      "outputs": [
        {
          "output_type": "stream",
          "name": "stdout",
          "text": "Total cases: 14000\n\nDimensionality: (14000, 11)\n\nColumns: Index(['EmployeeTargetedOverPastYear', 'IT Touchpoints', 'behaviorPattern3',\n       'behaviorPattern4', 'behaviorPattern5', 'fraudTraining Completed',\n       'peerUsageMetric4', 'peerUsageMetric6', 'usageMetric2', 'usageMetric3',\n       'usageMetric5'],\n      dtype='object')\n"
        }
      ],
      "execution_count": 4,
      "metadata": {
        "jupyter": {
          "source_hidden": false,
          "outputs_hidden": false
        },
        "nteract": {
          "transient": {
            "deleting": false
          }
        },
        "gather": {
          "logged": 1647554289435
        }
      }
    },
    {
      "cell_type": "markdown",
      "source": [
        "        Dataset statistics"
      ],
      "metadata": {
        "nteract": {
          "transient": {
            "deleting": false
          }
        }
      }
    },
    {
      "cell_type": "code",
      "source": [
        "phishingattack.describe()"
      ],
      "outputs": [
        {
          "output_type": "execute_result",
          "execution_count": 5,
          "data": {
            "text/plain": "       EmployeeTargetedOverPastYear  IT Touchpoints  behaviorPattern3  \\\ncount                  14000.000000    14000.000000      14000.000000   \nmean                       0.840000        1.843000          1.396000   \nstd                        0.366619        1.922621          1.229172   \nmin                        0.000000        0.000000          0.000000   \n25%                        1.000000        0.000000          0.000000   \n50%                        1.000000        2.000000          1.000000   \n75%                        1.000000        2.000000          2.000000   \nmax                        1.000000       14.000000          4.000000   \n\n       behaviorPattern4  behaviorPattern5  fraudTraining Completed  \\\ncount      14000.000000      14000.000000             14000.000000   \nmean           2.861286          2.971429                 0.502929   \nstd            1.745272          1.764606                 0.500009   \nmin            0.000000          0.000000                 0.000000   \n25%            2.000000          2.000000                 0.000000   \n50%            3.000000          3.000000                 1.000000   \n75%            4.000000          4.000000                 1.000000   \nmax            6.000000          6.000000                 1.000000   \n\n       peerUsageMetric4  peerUsageMetric6  usageMetric2  usageMetric3  \\\ncount      14000.000000      14000.000000  14000.000000  14000.000000   \nmean           2.741786          0.880429      1.846500      1.848857   \nstd            1.570078          0.943804      1.419687      2.031789   \nmin            0.000000          0.000000      0.000000      0.000000   \n25%            2.000000          0.000000      1.000000      0.000000   \n50%            3.000000          1.000000      2.000000      1.000000   \n75%            4.000000          1.000000      3.000000      3.000000   \nmax            6.000000          6.000000      5.000000      7.000000   \n\n       usageMetric5  \ncount  14000.000000  \nmean       0.620357  \nstd        0.794617  \nmin        0.000000  \n25%        0.000000  \n50%        0.000000  \n75%        1.000000  \nmax        7.000000  ",
            "text/html": "<div>\n<style scoped>\n    .dataframe tbody tr th:only-of-type {\n        vertical-align: middle;\n    }\n\n    .dataframe tbody tr th {\n        vertical-align: top;\n    }\n\n    .dataframe thead th {\n        text-align: right;\n    }\n</style>\n<table border=\"1\" class=\"dataframe\">\n  <thead>\n    <tr style=\"text-align: right;\">\n      <th></th>\n      <th>EmployeeTargetedOverPastYear</th>\n      <th>IT Touchpoints</th>\n      <th>behaviorPattern3</th>\n      <th>behaviorPattern4</th>\n      <th>behaviorPattern5</th>\n      <th>fraudTraining Completed</th>\n      <th>peerUsageMetric4</th>\n      <th>peerUsageMetric6</th>\n      <th>usageMetric2</th>\n      <th>usageMetric3</th>\n      <th>usageMetric5</th>\n    </tr>\n  </thead>\n  <tbody>\n    <tr>\n      <th>count</th>\n      <td>14000.000000</td>\n      <td>14000.000000</td>\n      <td>14000.000000</td>\n      <td>14000.000000</td>\n      <td>14000.000000</td>\n      <td>14000.000000</td>\n      <td>14000.000000</td>\n      <td>14000.000000</td>\n      <td>14000.000000</td>\n      <td>14000.000000</td>\n      <td>14000.000000</td>\n    </tr>\n    <tr>\n      <th>mean</th>\n      <td>0.840000</td>\n      <td>1.843000</td>\n      <td>1.396000</td>\n      <td>2.861286</td>\n      <td>2.971429</td>\n      <td>0.502929</td>\n      <td>2.741786</td>\n      <td>0.880429</td>\n      <td>1.846500</td>\n      <td>1.848857</td>\n      <td>0.620357</td>\n    </tr>\n    <tr>\n      <th>std</th>\n      <td>0.366619</td>\n      <td>1.922621</td>\n      <td>1.229172</td>\n      <td>1.745272</td>\n      <td>1.764606</td>\n      <td>0.500009</td>\n      <td>1.570078</td>\n      <td>0.943804</td>\n      <td>1.419687</td>\n      <td>2.031789</td>\n      <td>0.794617</td>\n    </tr>\n    <tr>\n      <th>min</th>\n      <td>0.000000</td>\n      <td>0.000000</td>\n      <td>0.000000</td>\n      <td>0.000000</td>\n      <td>0.000000</td>\n      <td>0.000000</td>\n      <td>0.000000</td>\n      <td>0.000000</td>\n      <td>0.000000</td>\n      <td>0.000000</td>\n      <td>0.000000</td>\n    </tr>\n    <tr>\n      <th>25%</th>\n      <td>1.000000</td>\n      <td>0.000000</td>\n      <td>0.000000</td>\n      <td>2.000000</td>\n      <td>2.000000</td>\n      <td>0.000000</td>\n      <td>2.000000</td>\n      <td>0.000000</td>\n      <td>1.000000</td>\n      <td>0.000000</td>\n      <td>0.000000</td>\n    </tr>\n    <tr>\n      <th>50%</th>\n      <td>1.000000</td>\n      <td>2.000000</td>\n      <td>1.000000</td>\n      <td>3.000000</td>\n      <td>3.000000</td>\n      <td>1.000000</td>\n      <td>3.000000</td>\n      <td>1.000000</td>\n      <td>2.000000</td>\n      <td>1.000000</td>\n      <td>0.000000</td>\n    </tr>\n    <tr>\n      <th>75%</th>\n      <td>1.000000</td>\n      <td>2.000000</td>\n      <td>2.000000</td>\n      <td>4.000000</td>\n      <td>4.000000</td>\n      <td>1.000000</td>\n      <td>4.000000</td>\n      <td>1.000000</td>\n      <td>3.000000</td>\n      <td>3.000000</td>\n      <td>1.000000</td>\n    </tr>\n    <tr>\n      <th>max</th>\n      <td>1.000000</td>\n      <td>14.000000</td>\n      <td>4.000000</td>\n      <td>6.000000</td>\n      <td>6.000000</td>\n      <td>1.000000</td>\n      <td>6.000000</td>\n      <td>6.000000</td>\n      <td>5.000000</td>\n      <td>7.000000</td>\n      <td>7.000000</td>\n    </tr>\n  </tbody>\n</table>\n</div>"
          },
          "metadata": {}
        }
      ],
      "execution_count": 5,
      "metadata": {
        "jupyter": {
          "source_hidden": false,
          "outputs_hidden": false
        },
        "nteract": {
          "transient": {
            "deleting": false
          }
        }
      }
    },
    {
      "cell_type": "markdown",
      "source": [
        "    Looking for Data missing"
      ],
      "metadata": {
        "nteract": {
          "transient": {
            "deleting": false
          }
        }
      }
    },
    {
      "cell_type": "code",
      "source": [
        "phishingattack.isna().sum()"
      ],
      "outputs": [
        {
          "output_type": "execute_result",
          "execution_count": 6,
          "data": {
            "text/plain": "EmployeeTargetedOverPastYear    0\nIT Touchpoints                  0\nbehaviorPattern3                0\nbehaviorPattern4                0\nbehaviorPattern5                0\nfraudTraining Completed         0\npeerUsageMetric4                0\npeerUsageMetric6                0\nusageMetric2                    0\nusageMetric3                    0\nusageMetric5                    0\ndtype: int64"
          },
          "metadata": {}
        }
      ],
      "execution_count": 6,
      "metadata": {
        "jupyter": {
          "source_hidden": false,
          "outputs_hidden": false
        },
        "nteract": {
          "transient": {
            "deleting": false
          }
        },
        "gather": {
          "logged": 1647554293822
        }
      }
    },
    {
      "cell_type": "markdown",
      "source": [
        "    Reviewing Unique values (we can do it for all the features...just curiosity!!)\r\n"
      ],
      "metadata": {
        "nteract": {
          "transient": {
            "deleting": false
          }
        }
      }
    },
    {
      "cell_type": "code",
      "source": [
        "#Get unique entries of a column with series.unique\r\n",
        "print(phishingattack[\"IT Touchpoints\"].unique())\r\n",
        "print(len(phishingattack[\"IT Touchpoints\"].unique()))"
      ],
      "outputs": [
        {
          "output_type": "stream",
          "name": "stdout",
          "text": "[ 2  0  6  4  8 10 14 12]\n8\n"
        }
      ],
      "execution_count": 7,
      "metadata": {
        "jupyter": {
          "source_hidden": false,
          "outputs_hidden": false
        },
        "nteract": {
          "transient": {
            "deleting": false
          }
        }
      }
    },
    {
      "cell_type": "markdown",
      "source": [
        "    Reviewing feature relationship and corelations"
      ],
      "metadata": {
        "nteract": {
          "transient": {
            "deleting": false
          }
        }
      }
    },
    {
      "cell_type": "code",
      "source": [
        "corelation = phishingattack.corr()"
      ],
      "outputs": [],
      "execution_count": 8,
      "metadata": {
        "jupyter": {
          "source_hidden": false,
          "outputs_hidden": false
        },
        "nteract": {
          "transient": {
            "deleting": false
          }
        }
      }
    },
    {
      "cell_type": "code",
      "source": [
        "sns.heatmap(corelation, xticklabels=corelation.columns, yticklabels=corelation.columns\r\n",
        ",annot=True)"
      ],
      "outputs": [
        {
          "output_type": "execute_result",
          "execution_count": 9,
          "data": {
            "text/plain": "<matplotlib.axes._subplots.AxesSubplot at 0x7f8ae8d52630>"
          },
          "metadata": {}
        },
        {
          "output_type": "display_data",
          "data": {
            "text/plain": "<Figure size 432x288 with 2 Axes>",
            "image/png": "[encoded data removed]"
          },
          "metadata": {
            "needs_background": "light"
          }
        }
      ],
      "execution_count": 9,
      "metadata": {
        "jupyter": {
          "source_hidden": false,
          "outputs_hidden": false
        },
        "nteract": {
          "transient": {
            "deleting": false
          }
        }
      }
    },
    {
      "cell_type": "markdown",
      "source": [
        "    Reviewing distribution between Employee Targeted or Not"
      ],
      "metadata": {
        "nteract": {
          "transient": {
            "deleting": false
          }
        }
      }
    },
    {
      "cell_type": "code",
      "source": [
        "employeeattackeddist = phishingattack.groupby('EmployeeTargetedOverPastYear')['fraudTraining Completed']\r\n",
        "employeeattackeddist.describe()"
      ],
      "outputs": [
        {
          "output_type": "execute_result",
          "execution_count": 10,
          "data": {
            "text/plain": "                                count      mean       std  min  25%  50%  75%  \\\nEmployeeTargetedOverPastYear                                                    \n0.0                            2240.0  0.410714  0.492073  0.0  0.0  0.0  1.0   \n1.0                           11760.0  0.520493  0.499601  0.0  0.0  1.0  1.0   \n\n                              max  \nEmployeeTargetedOverPastYear       \n0.0                           1.0  \n1.0                           1.0  ",
            "text/html": "<div>\n<style scoped>\n    .dataframe tbody tr th:only-of-type {\n        vertical-align: middle;\n    }\n\n    .dataframe tbody tr th {\n        vertical-align: top;\n    }\n\n    .dataframe thead th {\n        text-align: right;\n    }\n</style>\n<table border=\"1\" class=\"dataframe\">\n  <thead>\n    <tr style=\"text-align: right;\">\n      <th></th>\n      <th>count</th>\n      <th>mean</th>\n      <th>std</th>\n      <th>min</th>\n      <th>25%</th>\n      <th>50%</th>\n      <th>75%</th>\n      <th>max</th>\n    </tr>\n    <tr>\n      <th>EmployeeTargetedOverPastYear</th>\n      <th></th>\n      <th></th>\n      <th></th>\n      <th></th>\n      <th></th>\n      <th></th>\n      <th></th>\n      <th></th>\n    </tr>\n  </thead>\n  <tbody>\n    <tr>\n      <th>0.0</th>\n      <td>2240.0</td>\n      <td>0.410714</td>\n      <td>0.492073</td>\n      <td>0.0</td>\n      <td>0.0</td>\n      <td>0.0</td>\n      <td>1.0</td>\n      <td>1.0</td>\n    </tr>\n    <tr>\n      <th>1.0</th>\n      <td>11760.0</td>\n      <td>0.520493</td>\n      <td>0.499601</td>\n      <td>0.0</td>\n      <td>0.0</td>\n      <td>1.0</td>\n      <td>1.0</td>\n      <td>1.0</td>\n    </tr>\n  </tbody>\n</table>\n</div>"
          },
          "metadata": {}
        }
      ],
      "execution_count": 10,
      "metadata": {
        "jupyter": {
          "source_hidden": false,
          "outputs_hidden": false
        },
        "nteract": {
          "transient": {
            "deleting": false
          }
        }
      }
    },
    {
      "cell_type": "markdown",
      "source": [
        "    Calculating Dataset label Distribution"
      ],
      "metadata": {
        "nteract": {
          "transient": {
            "deleting": false
          }
        }
      }
    },
    {
      "cell_type": "code",
      "source": [
        "totalRows = len(phishingattack)\r\n",
        "positiveAttack = phishingattack.query('EmployeeTargetedOverPastYear == \"1\"').EmployeeTargetedOverPastYear.count()\r\n",
        "negativeAttack= phishingattack.query('EmployeeTargetedOverPastYear == \"0\"').EmployeeTargetedOverPastYear.count()\r\n",
        "print(\"Total Rows: \", totalRows)\r\n",
        "print(\"Number of Positive Attacks: \", positiveAttack)\r\n",
        "print(\"Number of Negative Attacks: \", negativeAttack)"
      ],
      "outputs": [
        {
          "output_type": "stream",
          "name": "stdout",
          "text": "Total Rows:  14000\nNumber of Positive Attacks:  11760\nNumber of Negative Attacks:  2240\n"
        }
      ],
      "execution_count": 11,
      "metadata": {
        "jupyter": {
          "source_hidden": false,
          "outputs_hidden": false
        },
        "nteract": {
          "transient": {
            "deleting": false
          }
        }
      }
    },
    {
      "cell_type": "code",
      "source": [
        "print(\"Percentage of Positive Attacks in the sample: \", percentage(positiveAttack,totalRows))"
      ],
      "outputs": [
        {
          "output_type": "stream",
          "name": "stdout",
          "text": "Percentage of Positive Attacks in the sample:  84.0%\n"
        }
      ],
      "execution_count": 12,
      "metadata": {
        "jupyter": {
          "source_hidden": false,
          "outputs_hidden": false
        },
        "nteract": {
          "transient": {
            "deleting": false
          }
        }
      }
    },
    {
      "cell_type": "code",
      "source": [
        "print(\"Percentage of Negative Attacks in the sample: \", percentage(negativeAttack,totalRows))"
      ],
      "outputs": [
        {
          "output_type": "stream",
          "name": "stdout",
          "text": "Percentage of Negative Attacks in the sample:  16.0%\n"
        }
      ],
      "execution_count": 13,
      "metadata": {
        "jupyter": {
          "source_hidden": false,
          "outputs_hidden": false
        },
        "nteract": {
          "transient": {
            "deleting": false
          }
        }
      }
    },
    {
      "cell_type": "markdown",
      "source": [
        "    Feature Engineering: separating features and label"
      ],
      "metadata": {
        "nteract": {
          "transient": {
            "deleting": false
          }
        }
      }
    },
    {
      "cell_type": "code",
      "source": [
        "# Separate features and labels\n",
        "features = ['IT Touchpoints','behaviorPattern3','behaviorPattern4','behaviorPattern5','fraudTraining Completed',\"peerUsageMetric4\",\"peerUsageMetric6\",\"usageMetric2\", \"usageMetric3\", \"usageMetric5\"]\n",
        "label = 'EmployeeTargetedOverPastYear'\n",
        "X, y = phishingattack[features].values, phishingattack[label].values\n",
        "\n",
        "for n in range(0,5):\n",
        "    print(\"Employee\", str(n+1), \"\\n  Features:\",list(X[n]), \"\\n  Label:\", y[n])"
      ],
      "outputs": [
        {
          "output_type": "stream",
          "name": "stdout",
          "text": "Employee 1 \n  Features: [2, 2, 5, 4, 1, 3, 0, 2, 0, 2] \n  Label: 1.0\nEmployee 2 \n  Features: [0, 3, 1, 3, 0, 1, 1, 2, 2, 2] \n  Label: 0.0\nEmployee 3 \n  Features: [0, 0, 1, 6, 1, 2, 0, 3, 0, 1] \n  Label: 1.0\nEmployee 4 \n  Features: [6, 0, 5, 0, 0, 3, 1, 3, 1, 1] \n  Label: 1.0\nEmployee 5 \n  Features: [0, 0, 2, 1, 0, 4, 1, 0, 0, 0] \n  Label: 1.0\n"
        }
      ],
      "execution_count": 14,
      "metadata": {
        "tags": [],
        "gather": {
          "logged": 1647554449739
        }
      }
    },
    {
      "cell_type": "markdown",
      "source": [
        "    Now let's compare the feature distributions for each label value."
      ],
      "metadata": {}
    },
    {
      "cell_type": "code",
      "source": [
        "from matplotlib import pyplot as plt\n",
        "%matplotlib inline\n",
        "for col in features:\n",
        "    phishingattack.boxplot(column=col, by='EmployeeTargetedOverPastYear', figsize=(6,6))\n",
        "    plt.title(col)\n",
        "plt.show()"
      ],
      "outputs": [
        {
          "output_type": "display_data",
          "data": {
            "text/plain": "<Figure size 432x432 with 1 Axes>",
            "image/png": "[encoded data removed]"
          },
          "metadata": {
            "needs_background": "light"
          }
        },
        {
          "output_type": "display_data",
          "data": {
            "text/plain": "<Figure size 432x432 with 1 Axes>",
            "image/png": "[encoded data removed]"
          },
          "metadata": {
            "needs_background": "light"
          }
        },
        {
          "output_type": "display_data",
          "data": {
            "text/plain": "<Figure size 432x432 with 1 Axes>",
            "image/png": "[encoded data removed]"
          },
          "metadata": {
            "needs_background": "light"
          }
        },
        {
          "output_type": "display_data",
          "data": {
            "text/plain": "<Figure size 432x432 with 1 Axes>",
            "image/png": "[encoded data removed]"
          },
          "metadata": {
            "needs_background": "light"
          }
        },
        {
          "output_type": "display_data",
          "data": {
            "text/plain": "<Figure size 432x432 with 1 Axes>",
            "image/png": "[encoded data removed]"
          },
          "metadata": {
            "needs_background": "light"
          }
        },
        {
          "output_type": "display_data",
          "data": {
            "text/plain": "<Figure size 432x432 with 1 Axes>",
            "image/png": "[encoded data removed]"
          },
          "metadata": {
            "needs_background": "light"
          }
        },
        {
          "output_type": "display_data",
          "data": {
            "text/plain": "<Figure size 432x432 with 1 Axes>",
            "image/png": "[encoded data removed]"
          },
          "metadata": {
            "needs_background": "light"
          }
        },
        {
          "output_type": "display_data",
          "data": {
            "text/plain": "<Figure size 432x432 with 1 Axes>",
            "image/png": "[encoded data removed]"
          },
          "metadata": {
            "needs_background": "light"
          }
        },
        {
          "output_type": "display_data",
          "data": {
            "text/plain": "<Figure size 432x432 with 1 Axes>",
            "image/png": "[encoded data removed]"
          },
          "metadata": {
            "needs_background": "light"
          }
        },
        {
          "output_type": "display_data",
          "data": {
            "text/plain": "<Figure size 432x432 with 1 Axes>",
            "image/png": "[encoded data removed]"
          },
          "metadata": {
            "needs_background": "light"
          }
        }
      ],
      "execution_count": 15,
      "metadata": {
        "scrolled": false,
        "gather": {
          "logged": 1647554459507
        }
      }
    },
    {
      "cell_type": "markdown",
      "source": [
        "### Modeling"
      ],
      "metadata": {
        "nteract": {
          "transient": {
            "deleting": false
          }
        }
      }
    },
    {
      "cell_type": "markdown",
      "source": [
        "\n",
        "    Split the data 70-30 Traning-Test"
      ],
      "metadata": {}
    },
    {
      "cell_type": "code",
      "source": [
        "#We'll use that to split the data into 70% for training and hold back 30% for testing.\n",
        "# Split data 70%-30% into training set and test set\n",
        "X_train, X_test, y_train, y_test = train_test_split(X, y, test_size=0.30, random_state=0)\n",
        "\n",
        "print ('Training cases: %d\\nTest cases: %d' % (X_train.shape[0], X_test.shape[0]))\n",
        "dftrainlabel = pd.DataFrame(y_train, columns = ['EmployeeTargetedOverPastYear'])\n",
        "totalTrainRows = len(dftrainlabel)\n",
        "positiveTrainAttack = dftrainlabel.query('EmployeeTargetedOverPastYear == \"1\"').EmployeeTargetedOverPastYear.count()\n",
        "negativeTrainAttack= dftrainlabel.query('EmployeeTargetedOverPastYear == \"0\"').EmployeeTargetedOverPastYear.count()\n",
        "print(\"Total Training cases: \", str(totalTrainRows))\n",
        "print(\"Positive Train Attack: \", str(positiveTrainAttack))\n",
        "print(\"Negative Train Attack: \", str(negativeTrainAttack))"
      ],
      "outputs": [
        {
          "output_type": "stream",
          "name": "stdout",
          "text": "Training cases: 9800\nTest cases: 4200\nTotal Training cases:  9800\nPositive Train Attack:  8216\nNegative Train Attack:  1584\n"
        }
      ],
      "execution_count": 16,
      "metadata": {
        "tags": [],
        "gather": {
          "logged": 1647554814305
        }
      }
    },
    {
      "cell_type": "markdown",
      "source": [
        "    Calculating Training Label Distribution:"
      ],
      "metadata": {
        "nteract": {
          "transient": {
            "deleting": false
          }
        }
      }
    },
    {
      "cell_type": "code",
      "source": [
        "print('Positive: %d' % np.sum(y_train==1))\n",
        "print('Negative: %d' % np.sum(y_train==0))"
      ],
      "outputs": [
        {
          "output_type": "stream",
          "name": "stdout",
          "text": "Positive: 8216\nNegative: 1584\n"
        }
      ],
      "execution_count": 17,
      "metadata": {
        "jupyter": {
          "source_hidden": false,
          "outputs_hidden": false
        },
        "nteract": {
          "transient": {
            "deleting": false
          }
        },
        "gather": {
          "logged": 1647556498383
        }
      }
    },
    {
      "cell_type": "code",
      "source": [
        "print(\"If seems we have an inbalanced label distribution!!!\")"
      ],
      "outputs": [
        {
          "output_type": "stream",
          "name": "stdout",
          "text": "If seems we have an inbalanced label distribution!!!\n"
        }
      ],
      "execution_count": 18,
      "metadata": {
        "jupyter": {
          "source_hidden": false,
          "outputs_hidden": false
        },
        "nteract": {
          "transient": {
            "deleting": false
          }
        }
      }
    },
    {
      "cell_type": "markdown",
      "source": [
        "    First Experiment: Logistic Regression (Ingenue experiment because we know about the inbalanced classes)"
      ],
      "metadata": {
        "nteract": {
          "transient": {
            "deleting": false
          }
        }
      }
    },
    {
      "cell_type": "code",
      "source": [
        "# Set regularization rate\n",
        "reg = 0.01\n",
        "\n",
        "# train a logistic regression model on the training set\n",
        "LRIngenuemodel = LogisticRegression(C=1/reg, solver=\"liblinear\").fit(X_train, y_train)\n",
        "print (LRIngenuemodel)"
      ],
      "outputs": [
        {
          "output_type": "stream",
          "name": "stdout",
          "text": "LogisticRegression(C=100.0, solver='liblinear')\n"
        }
      ],
      "execution_count": 19,
      "metadata": {
        "tags": [],
        "gather": {
          "logged": 1647554825493
        }
      }
    },
    {
      "cell_type": "markdown",
      "source": [
        "    Evaluate the Model\n",
        "Now we've trained the model using the training -inbalanced- data, we can use the test data we held back to evaluate how well it predicts. Let's start by using the model to predict labels for our test set, and compare the predicted labels to the known labels:"
      ],
      "metadata": {}
    },
    {
      "cell_type": "code",
      "source": [
        "predictions = LRIngenuemodel.predict(X_test)\n",
        "print('Predicted labels: ', predictions)\n",
        "print('Actual labels:    ' ,y_test)"
      ],
      "outputs": [
        {
          "output_type": "stream",
          "name": "stdout",
          "text": "Predicted labels:  [1. 1. 1. ... 1. 1. 1.]\nActual labels:     [1. 1. 1. ... 1. 1. 1.]\n"
        }
      ],
      "execution_count": 20,
      "metadata": {
        "tags": [],
        "gather": {
          "logged": 1647558749391
        }
      }
    },
    {
      "cell_type": "markdown",
      "source": [
        "    Accuracy\n",
        "Let's get some model metrics starting by: *accuracy* of the predictions - in simple terms, what proportion of the labels did the model predict correctly?"
      ],
      "metadata": {}
    },
    {
      "cell_type": "code",
      "source": [
        "print('Accuracy: ', accuracy_score(y_test, predictions))"
      ],
      "outputs": [
        {
          "output_type": "stream",
          "name": "stdout",
          "text": "Accuracy:  0.8485714285714285\n"
        }
      ],
      "execution_count": 21,
      "metadata": {
        "tags": [],
        "gather": {
          "logged": 1647558769365
        }
      }
    },
    {
      "cell_type": "markdown",
      "source": [
        "    Precission,Recall, F1-Score and Support\n",
        "Lets review other metrics that reveal a little more about how our model is performing. We'll use a *classification report* that provides more insight than raw accuracy alone."
      ],
      "metadata": {}
    },
    {
      "cell_type": "code",
      "source": [
        "print(classification_report(y_test, predictions))"
      ],
      "outputs": [
        {
          "output_type": "stream",
          "name": "stdout",
          "text": "              precision    recall  f1-score   support\n\n         0.0       0.86      0.04      0.07       656\n         1.0       0.85      1.00      0.92      3544\n\n    accuracy                           0.85      4200\n   macro avg       0.85      0.52      0.49      4200\nweighted avg       0.85      0.85      0.79      4200\n\n"
        }
      ],
      "execution_count": 22,
      "metadata": {
        "tags": [],
        "gather": {
          "logged": 1647558783366
        }
      }
    },
    {
      "cell_type": "code",
      "source": [
        "print(\"Overall Precision:\",precision_score(y_test, predictions))\n",
        "print(\"Overall Recall:\",recall_score(y_test, predictions))"
      ],
      "outputs": [
        {
          "output_type": "stream",
          "name": "stdout",
          "text": "Overall Precision: 0.8485139022051774\nOverall Recall: 0.9988713318284425\n"
        }
      ],
      "execution_count": 23,
      "metadata": {
        "tags": [],
        "gather": {
          "logged": 1647558807345
        }
      }
    },
    {
      "cell_type": "markdown",
      "source": [
        "    Confussion Matrix"
      ],
      "metadata": {}
    },
    {
      "cell_type": "code",
      "source": [
        "# Print the confusion matrix\n",
        "cm = confusion_matrix(y_test, predictions)\n",
        "print (cm)"
      ],
      "outputs": [
        {
          "output_type": "stream",
          "name": "stdout",
          "text": "[[  24  632]\n [   4 3540]]\n"
        }
      ],
      "execution_count": 24,
      "metadata": {
        "tags": [],
        "gather": {
          "logged": 1647558813591
        }
      }
    },
    {
      "cell_type": "code",
      "source": [
        "plt.figure(figsize=(8,6))\r\n",
        "plt.title('Confusion Matrix before SMOTE', size=16)\r\n",
        "sns.heatmap(cm, annot=True, cmap='gnuplot')"
      ],
      "outputs": [
        {
          "output_type": "execute_result",
          "execution_count": 25,
          "data": {
            "text/plain": "<matplotlib.axes._subplots.AxesSubplot at 0x7f8adec84588>"
          },
          "metadata": {}
        },
        {
          "output_type": "display_data",
          "data": {
            "text/plain": "<Figure size 576x432 with 2 Axes>",
            "image/png": "[encoded data removed]"
          },
          "metadata": {
            "needs_background": "light"
          }
        }
      ],
      "execution_count": 25,
      "metadata": {
        "jupyter": {
          "source_hidden": false,
          "outputs_hidden": false
        },
        "nteract": {
          "transient": {
            "deleting": false
          }
        }
      }
    },
    {
      "cell_type": "markdown",
      "source": [
        "    We can use the **predict_proba** method to see the probability pairs for each case:"
      ],
      "metadata": {}
    },
    {
      "cell_type": "code",
      "source": [
        "y_scores = LRIngenuemodel.predict_proba(X_test)\n",
        "print(y_scores)"
      ],
      "outputs": [
        {
          "output_type": "stream",
          "name": "stdout",
          "text": "[[0.06244167 0.93755833]\n [0.18535598 0.81464402]\n [0.07254684 0.92745316]\n ...\n [0.11759526 0.88240474]\n [0.08846902 0.91153098]\n [0.0944001  0.9055999 ]]\n"
        }
      ],
      "execution_count": 26,
      "metadata": {
        "tags": [],
        "gather": {
          "logged": 1647558859432
        }
      }
    },
    {
      "cell_type": "markdown",
      "source": [
        "    ROC Curve"
      ],
      "metadata": {}
    },
    {
      "cell_type": "code",
      "source": [
        "%matplotlib inline\n",
        "\n",
        "# calculate ROC curve\n",
        "fpr, tpr, thresholds = roc_curve(y_test, y_scores[:,1])\n",
        "\n",
        "# plot ROC curve\n",
        "fig = plt.figure(figsize=(6, 6))\n",
        "# Plot the diagonal 50% line\n",
        "plt.plot([0, 1], [0, 1], 'k--')\n",
        "# Plot the FPR and TPR achieved by our model\n",
        "plt.plot(fpr, tpr)\n",
        "plt.xlabel('False Positive Rate')\n",
        "plt.ylabel('True Positive Rate')\n",
        "plt.title('ROC Curve')\n",
        "plt.show()"
      ],
      "outputs": [
        {
          "output_type": "display_data",
          "data": {
            "text/plain": "<Figure size 432x432 with 1 Axes>",
            "image/png": "[encoded data removed]"
          },
          "metadata": {
            "needs_background": "light"
          }
        }
      ],
      "execution_count": 27,
      "metadata": {
        "gather": {
          "logged": 1647558970308
        }
      }
    },
    {
      "cell_type": "markdown",
      "source": [
        "    Area under the curve (AUC)"
      ],
      "metadata": {}
    },
    {
      "cell_type": "code",
      "source": [
        "auc = roc_auc_score(y_test,y_scores[:,1])\n",
        "print('AUC: ' + str(auc))"
      ],
      "outputs": [
        {
          "output_type": "stream",
          "name": "stdout",
          "text": "AUC: 0.6366239057424434\n"
        }
      ],
      "execution_count": 28,
      "metadata": {
        "tags": [],
        "gather": {
          "logged": 1647558987368
        }
      }
    },
    {
      "cell_type": "markdown",
      "source": [
        "    Considering SMOTE to adreess the inbalanced class distribution (oversampling)"
      ],
      "metadata": {
        "nteract": {
          "transient": {
            "deleting": false
          }
        }
      }
    },
    {
      "cell_type": "code",
      "source": [
        "#pip install imbalanced-Learn"
      ],
      "outputs": [],
      "execution_count": null,
      "metadata": {
        "jupyter": {
          "source_hidden": false,
          "outputs_hidden": false
        },
        "nteract": {
          "transient": {
            "deleting": false
          }
        }
      }
    },
    {
      "cell_type": "code",
      "source": [
        "#pip install delayed"
      ],
      "outputs": [],
      "execution_count": null,
      "metadata": {
        "jupyter": {
          "source_hidden": false,
          "outputs_hidden": false
        },
        "nteract": {
          "transient": {
            "deleting": false
          }
        }
      }
    },
    {
      "cell_type": "code",
      "source": [
        "#RESTART KERNEL!!!!!!\r\n",
        "from delayed.delay import delayed \r\n",
        "from imblearn.over_sampling import SMOTE\r\n",
        "\r\n",
        "sm = SMOTE(random_state=42)\r\n",
        "X_sm, y_sm = sm.fit_resample(X,y)\r\n",
        "print(f'''X before SMOTE: {X.shape}\r\n",
        "X after SMOTE: {X_sm.shape}''')"
      ],
      "outputs": [
        {
          "output_type": "stream",
          "name": "stdout",
          "text": "X before SMOTE: (14000, 10)\nX after SMOTE: (23520, 10)\n"
        }
      ],
      "execution_count": 29,
      "metadata": {
        "jupyter": {
          "source_hidden": false,
          "outputs_hidden": false
        },
        "nteract": {
          "transient": {
            "deleting": false
          }
        }
      }
    },
    {
      "cell_type": "markdown",
      "source": [
        "    Reviewing with detail how SMOTE adjusted the original Dataset"
      ],
      "metadata": {
        "nteract": {
          "transient": {
            "deleting": false
          }
        }
      }
    },
    {
      "cell_type": "code",
      "source": [
        "print('Positive: %d' % np.sum(y_sm==1))\r\n",
        "print('Negative: %d' % np.sum(y_sm==0))"
      ],
      "outputs": [
        {
          "output_type": "stream",
          "name": "stdout",
          "text": "Positive: 11760\nNegative: 11760\n"
        }
      ],
      "execution_count": 30,
      "metadata": {
        "jupyter": {
          "source_hidden": false,
          "outputs_hidden": false
        },
        "nteract": {
          "transient": {
            "deleting": false
          }
        }
      }
    },
    {
      "cell_type": "code",
      "source": [
        "sns.countplot(y_train)\r\n",
        "plt.title('Label distribution for training before SMOTE')"
      ],
      "outputs": [
        {
          "output_type": "stream",
          "name": "stderr",
          "text": "/anaconda/envs/azureml_py36/lib/python3.6/site-packages/seaborn/_decorators.py:43: FutureWarning: Pass the following variable as a keyword arg: x. From version 0.12, the only valid positional argument will be `data`, and passing other arguments without an explicit keyword will result in an error or misinterpretation.\n  FutureWarning\n"
        },
        {
          "output_type": "execute_result",
          "execution_count": 31,
          "data": {
            "text/plain": "Text(0.5, 1.0, 'Label distribution for training before SMOTE')"
          },
          "metadata": {}
        },
        {
          "output_type": "display_data",
          "data": {
            "text/plain": "<Figure size 432x288 with 1 Axes>",
            "image/png": "[encoded data removed]"
          },
          "metadata": {
            "needs_background": "light"
          }
        }
      ],
      "execution_count": 31,
      "metadata": {
        "jupyter": {
          "source_hidden": false,
          "outputs_hidden": false
        },
        "nteract": {
          "transient": {
            "deleting": false
          }
        }
      }
    },
    {
      "cell_type": "code",
      "source": [
        "sns.countplot(y_sm)\r\n",
        "plt.title('Label distribution for training after SMOTE')"
      ],
      "outputs": [
        {
          "output_type": "stream",
          "name": "stderr",
          "text": "/anaconda/envs/azureml_py36/lib/python3.6/site-packages/seaborn/_decorators.py:43: FutureWarning: Pass the following variable as a keyword arg: x. From version 0.12, the only valid positional argument will be `data`, and passing other arguments without an explicit keyword will result in an error or misinterpretation.\n  FutureWarning\n"
        },
        {
          "output_type": "execute_result",
          "execution_count": 32,
          "data": {
            "text/plain": "Text(0.5, 1.0, 'Label distribution for training after SMOTE')"
          },
          "metadata": {}
        },
        {
          "output_type": "display_data",
          "data": {
            "text/plain": "<Figure size 432x288 with 1 Axes>",
            "image/png": "[encoded data removed]"
          },
          "metadata": {
            "needs_background": "light"
          }
        }
      ],
      "execution_count": 32,
      "metadata": {
        "jupyter": {
          "source_hidden": false,
          "outputs_hidden": false
        },
        "nteract": {
          "transient": {
            "deleting": false
          }
        }
      }
    },
    {
      "cell_type": "markdown",
      "source": [
        "    Spliting the new dataset (after SMOTE)"
      ],
      "metadata": {
        "nteract": {
          "transient": {
            "deleting": false
          }
        }
      }
    },
    {
      "cell_type": "code",
      "source": [
        "X_train, X_test, y_train, y_test = train_test_split(X_sm, y_sm, test_size=0.30, random_state=0)\r\n",
        "\r\n",
        "print ('Training cases: %d\\nTest cases: %d' % (X_train.shape[0], X_test.shape[0]))\r\n",
        "smdftrainlabel = pd.DataFrame(y_train, columns = ['EmployeeTargetedOverPastYear'])\r\n",
        "totalTrainRows = len(smdftrainlabel)\r\n",
        "positiveTrainAttack = smdftrainlabel.query('EmployeeTargetedOverPastYear == \"1\"').EmployeeTargetedOverPastYear.count()\r\n",
        "negativeTrainAttack= smdftrainlabel.query('EmployeeTargetedOverPastYear == \"0\"').EmployeeTargetedOverPastYear.count()\r\n",
        "print(\"Total Training cases: \", str(totalTrainRows))\r\n",
        "print(\"Positive Train Attack: \", str(positiveTrainAttack))\r\n",
        "print(\"Negative Train Attack: \", str(negativeTrainAttack))"
      ],
      "outputs": [
        {
          "output_type": "stream",
          "name": "stdout",
          "text": "Training cases: 16464\nTest cases: 7056\nTotal Training cases:  16464\nPositive Train Attack:  8206\nNegative Train Attack:  8258\n"
        }
      ],
      "execution_count": 33,
      "metadata": {
        "jupyter": {
          "source_hidden": false,
          "outputs_hidden": false
        },
        "nteract": {
          "transient": {
            "deleting": false
          }
        }
      }
    },
    {
      "cell_type": "markdown",
      "source": [
        "    Reviewing label balance after SMOTE in the training dataset"
      ],
      "metadata": {
        "nteract": {
          "transient": {
            "deleting": false
          }
        }
      }
    },
    {
      "cell_type": "code",
      "source": [
        "print('Positive: %d' % np.sum(y_train==1))\r\n",
        "print('Negative: %d' % np.sum(y_train==0))"
      ],
      "outputs": [
        {
          "output_type": "stream",
          "name": "stdout",
          "text": "Positive: 8206\nNegative: 8258\n"
        }
      ],
      "execution_count": 34,
      "metadata": {
        "jupyter": {
          "source_hidden": false,
          "outputs_hidden": false
        },
        "nteract": {
          "transient": {
            "deleting": false
          }
        }
      }
    },
    {
      "cell_type": "markdown",
      "source": [
        "    Second Experiment: Again, Logistic Regression...this time with a balanced label training dataset."
      ],
      "metadata": {
        "nteract": {
          "transient": {
            "deleting": false
          }
        }
      }
    },
    {
      "cell_type": "code",
      "source": [
        "# Set regularization rate\r\n",
        "reg = 0.01\r\n",
        "\r\n",
        "# train a logistic regression model on the training set\r\n",
        "LRaftersmotemodel = LogisticRegression(C=1/reg, solver=\"liblinear\").fit(X_train, y_train)\r\n",
        "print (LRaftersmotemodel)"
      ],
      "outputs": [
        {
          "output_type": "stream",
          "name": "stdout",
          "text": "LogisticRegression(C=100.0, solver='liblinear')\n"
        }
      ],
      "execution_count": 35,
      "metadata": {
        "jupyter": {
          "source_hidden": false,
          "outputs_hidden": false
        },
        "nteract": {
          "transient": {
            "deleting": false
          }
        }
      }
    },
    {
      "cell_type": "code",
      "source": [
        "predictions = LRaftersmotemodel.predict(X_test)\r\n",
        "print('Predicted labels: ', predictions)\r\n",
        "print('Actual labels:    ' ,y_test)"
      ],
      "outputs": [
        {
          "output_type": "stream",
          "name": "stdout",
          "text": "Predicted labels:  [0. 1. 0. ... 1. 1. 1.]\nActual labels:     [0. 1. 1. ... 1. 0. 1.]\n"
        }
      ],
      "execution_count": 36,
      "metadata": {
        "jupyter": {
          "source_hidden": false,
          "outputs_hidden": false
        },
        "nteract": {
          "transient": {
            "deleting": false
          }
        }
      }
    },
    {
      "cell_type": "markdown",
      "source": [
        "    Let's review the new metrics:"
      ],
      "metadata": {
        "nteract": {
          "transient": {
            "deleting": false
          }
        }
      }
    },
    {
      "cell_type": "code",
      "source": [
        "print('Accuracy: ', accuracy_score(y_test, predictions))"
      ],
      "outputs": [
        {
          "output_type": "stream",
          "name": "stdout",
          "text": "Accuracy:  0.6547619047619048\n"
        }
      ],
      "execution_count": 37,
      "metadata": {
        "jupyter": {
          "source_hidden": false,
          "outputs_hidden": false
        },
        "nteract": {
          "transient": {
            "deleting": false
          }
        }
      }
    },
    {
      "cell_type": "code",
      "source": [
        "print(classification_report(y_test, predictions))"
      ],
      "outputs": [
        {
          "output_type": "stream",
          "name": "stdout",
          "text": "              precision    recall  f1-score   support\n\n         0.0       0.65      0.67      0.66      3502\n         1.0       0.66      0.64      0.65      3554\n\n    accuracy                           0.65      7056\n   macro avg       0.65      0.65      0.65      7056\nweighted avg       0.66      0.65      0.65      7056\n\n"
        }
      ],
      "execution_count": 38,
      "metadata": {
        "jupyter": {
          "source_hidden": false,
          "outputs_hidden": false
        },
        "nteract": {
          "transient": {
            "deleting": false
          }
        }
      }
    },
    {
      "cell_type": "code",
      "source": [
        "print(\"Overall Precision:\",precision_score(y_test, predictions))\r\n",
        "print(\"Overall Recall:\",recall_score(y_test, predictions))"
      ],
      "outputs": [
        {
          "output_type": "stream",
          "name": "stdout",
          "text": "Overall Precision: 0.6626891734575088\nOverall Recall: 0.640686550365785\n"
        }
      ],
      "execution_count": 39,
      "metadata": {
        "jupyter": {
          "source_hidden": false,
          "outputs_hidden": false
        },
        "nteract": {
          "transient": {
            "deleting": false
          }
        }
      }
    },
    {
      "cell_type": "code",
      "source": [
        "# Print the confusion matrix\r\n",
        "cm = confusion_matrix(y_test, predictions)\r\n",
        "print (cm)"
      ],
      "outputs": [
        {
          "output_type": "stream",
          "name": "stdout",
          "text": "[[2343 1159]\n [1277 2277]]\n"
        }
      ],
      "execution_count": 40,
      "metadata": {
        "jupyter": {
          "source_hidden": false,
          "outputs_hidden": false
        },
        "nteract": {
          "transient": {
            "deleting": false
          }
        }
      }
    },
    {
      "cell_type": "code",
      "source": [
        "y_scores = LRaftersmotemodel.predict_proba(X_test)\r\n",
        "print(y_scores)"
      ],
      "outputs": [
        {
          "output_type": "stream",
          "name": "stdout",
          "text": "[[0.65674686 0.34325314]\n [0.1354124  0.8645876 ]\n [0.62427754 0.37572246]\n ...\n [0.46422992 0.53577008]\n [0.45043706 0.54956294]\n [0.4107176  0.5892824 ]]\n"
        }
      ],
      "execution_count": 41,
      "metadata": {
        "jupyter": {
          "source_hidden": false,
          "outputs_hidden": false
        },
        "nteract": {
          "transient": {
            "deleting": false
          }
        }
      }
    },
    {
      "cell_type": "code",
      "source": [
        "%matplotlib inline\r\n",
        "\r\n",
        "# calculate ROC curve\r\n",
        "fpr, tpr, thresholds = roc_curve(y_test, y_scores[:,1])\r\n",
        "\r\n",
        "# plot ROC curve\r\n",
        "fig = plt.figure(figsize=(6, 6))\r\n",
        "# Plot the diagonal 50% line\r\n",
        "plt.plot([0, 1], [0, 1], 'k--')\r\n",
        "# Plot the FPR and TPR achieved by our model\r\n",
        "plt.plot(fpr, tpr)\r\n",
        "plt.xlabel('False Positive Rate')\r\n",
        "plt.ylabel('True Positive Rate')\r\n",
        "plt.title('ROC Curve')\r\n",
        "plt.show()"
      ],
      "outputs": [
        {
          "output_type": "display_data",
          "data": {
            "text/plain": "<Figure size 432x432 with 1 Axes>",
            "image/png": "[encoded data removed]"
          },
          "metadata": {
            "needs_background": "light"
          }
        }
      ],
      "execution_count": 42,
      "metadata": {
        "jupyter": {
          "source_hidden": false,
          "outputs_hidden": false
        },
        "nteract": {
          "transient": {
            "deleting": false
          }
        }
      }
    },
    {
      "cell_type": "code",
      "source": [
        "auc = roc_auc_score(y_test,y_scores[:,1])\r\n",
        "print('AUC: ' + str(auc))"
      ],
      "outputs": [
        {
          "output_type": "stream",
          "name": "stdout",
          "text": "AUC: 0.7136236886261955\n"
        }
      ],
      "execution_count": 43,
      "metadata": {
        "jupyter": {
          "source_hidden": false,
          "outputs_hidden": false
        },
        "nteract": {
          "transient": {
            "deleting": false
          }
        }
      }
    },
    {
      "cell_type": "markdown",
      "source": [
        "It Looks Better!!!"
      ],
      "metadata": {
        "nteract": {
          "transient": {
            "deleting": false
          }
        }
      }
    },
    {
      "cell_type": "markdown",
      "source": [
        "    Feature selection with Boruta"
      ],
      "metadata": {
        "nteract": {
          "transient": {
            "deleting": false
          }
        }
      }
    },
    {
      "cell_type": "code",
      "source": [
        "select = SelectFromModel(RandomForestClassifier(n_estimators=100))\r\n",
        "select.fit(X_sm, y_sm)\r\n"
      ],
      "outputs": [
        {
          "output_type": "execute_result",
          "execution_count": 44,
          "data": {
            "text/plain": "SelectFromModel(estimator=RandomForestClassifier())"
          },
          "metadata": {}
        }
      ],
      "execution_count": 44,
      "metadata": {
        "jupyter": {
          "source_hidden": false,
          "outputs_hidden": false
        },
        "nteract": {
          "transient": {
            "deleting": false
          }
        }
      }
    },
    {
      "cell_type": "code",
      "source": [
        "select.transform(X_sm)"
      ],
      "outputs": [
        {
          "output_type": "execute_result",
          "execution_count": 45,
          "data": {
            "text/plain": "array([[5, 4, 3, 2, 0],\n       [1, 3, 1, 2, 2],\n       [1, 6, 2, 3, 0],\n       ...,\n       [1, 2, 3, 2, 0],\n       [4, 0, 3, 0, 2],\n       [5, 2, 2, 0, 3]])"
          },
          "metadata": {}
        }
      ],
      "execution_count": 45,
      "metadata": {
        "jupyter": {
          "source_hidden": false,
          "outputs_hidden": false
        },
        "nteract": {
          "transient": {
            "deleting": false
          }
        }
      }
    },
    {
      "cell_type": "code",
      "source": [
        "select.get_support()"
      ],
      "outputs": [
        {
          "output_type": "execute_result",
          "execution_count": 46,
          "data": {
            "text/plain": "array([False, False,  True,  True, False,  True, False,  True,  True,\n       False])"
          },
          "metadata": {}
        }
      ],
      "execution_count": 46,
      "metadata": {
        "jupyter": {
          "source_hidden": false,
          "outputs_hidden": false
        },
        "nteract": {
          "transient": {
            "deleting": false
          }
        }
      }
    },
    {
      "cell_type": "code",
      "source": [
        "len(select.get_support())"
      ],
      "outputs": [
        {
          "output_type": "execute_result",
          "execution_count": 47,
          "data": {
            "text/plain": "10"
          },
          "metadata": {}
        }
      ],
      "execution_count": 47,
      "metadata": {
        "jupyter": {
          "source_hidden": false,
          "outputs_hidden": false
        },
        "nteract": {
          "transient": {
            "deleting": false
          }
        }
      }
    },
    {
      "cell_type": "code",
      "source": [
        "features"
      ],
      "outputs": [
        {
          "output_type": "execute_result",
          "execution_count": 48,
          "data": {
            "text/plain": "['IT Touchpoints',\n 'behaviorPattern3',\n 'behaviorPattern4',\n 'behaviorPattern5',\n 'fraudTraining Completed',\n 'peerUsageMetric4',\n 'peerUsageMetric6',\n 'usageMetric2',\n 'usageMetric3',\n 'usageMetric5']"
          },
          "metadata": {}
        }
      ],
      "execution_count": 48,
      "metadata": {
        "jupyter": {
          "source_hidden": false,
          "outputs_hidden": false
        },
        "nteract": {
          "transient": {
            "deleting": false
          }
        }
      }
    },
    {
      "cell_type": "code",
      "source": [
        "listfeatureimportance = list(select.get_support())\r\n",
        "listfeatureimportance"
      ],
      "outputs": [
        {
          "output_type": "execute_result",
          "execution_count": 49,
          "data": {
            "text/plain": "[False, False, True, True, False, True, False, True, True, False]"
          },
          "metadata": {}
        }
      ],
      "execution_count": 49,
      "metadata": {
        "jupyter": {
          "source_hidden": false,
          "outputs_hidden": false
        },
        "nteract": {
          "transient": {
            "deleting": false
          }
        }
      }
    },
    {
      "cell_type": "code",
      "source": [
        "dffeatimportance = pd.DataFrame({\"FeatureName\": features, \"Importance\" : listfeatureimportance})\r\n",
        "dffeatimportance"
      ],
      "outputs": [
        {
          "output_type": "execute_result",
          "execution_count": 50,
          "data": {
            "text/plain": "               FeatureName  Importance\n0           IT Touchpoints       False\n1         behaviorPattern3       False\n2         behaviorPattern4        True\n3         behaviorPattern5        True\n4  fraudTraining Completed       False\n5         peerUsageMetric4        True\n6         peerUsageMetric6       False\n7             usageMetric2        True\n8             usageMetric3        True\n9             usageMetric5       False",
            "text/html": "<div>\n<style scoped>\n    .dataframe tbody tr th:only-of-type {\n        vertical-align: middle;\n    }\n\n    .dataframe tbody tr th {\n        vertical-align: top;\n    }\n\n    .dataframe thead th {\n        text-align: right;\n    }\n</style>\n<table border=\"1\" class=\"dataframe\">\n  <thead>\n    <tr style=\"text-align: right;\">\n      <th></th>\n      <th>FeatureName</th>\n      <th>Importance</th>\n    </tr>\n  </thead>\n  <tbody>\n    <tr>\n      <th>0</th>\n      <td>IT Touchpoints</td>\n      <td>False</td>\n    </tr>\n    <tr>\n      <th>1</th>\n      <td>behaviorPattern3</td>\n      <td>False</td>\n    </tr>\n    <tr>\n      <th>2</th>\n      <td>behaviorPattern4</td>\n      <td>True</td>\n    </tr>\n    <tr>\n      <th>3</th>\n      <td>behaviorPattern5</td>\n      <td>True</td>\n    </tr>\n    <tr>\n      <th>4</th>\n      <td>fraudTraining Completed</td>\n      <td>False</td>\n    </tr>\n    <tr>\n      <th>5</th>\n      <td>peerUsageMetric4</td>\n      <td>True</td>\n    </tr>\n    <tr>\n      <th>6</th>\n      <td>peerUsageMetric6</td>\n      <td>False</td>\n    </tr>\n    <tr>\n      <th>7</th>\n      <td>usageMetric2</td>\n      <td>True</td>\n    </tr>\n    <tr>\n      <th>8</th>\n      <td>usageMetric3</td>\n      <td>True</td>\n    </tr>\n    <tr>\n      <th>9</th>\n      <td>usageMetric5</td>\n      <td>False</td>\n    </tr>\n  </tbody>\n</table>\n</div>"
          },
          "metadata": {}
        }
      ],
      "execution_count": 50,
      "metadata": {
        "jupyter": {
          "source_hidden": false,
          "outputs_hidden": false
        },
        "nteract": {
          "transient": {
            "deleting": false
          }
        }
      }
    },
    {
      "cell_type": "code",
      "source": [
        "dffeatimportance.sort_values([\"Importance\"], ascending=False)"
      ],
      "outputs": [
        {
          "output_type": "execute_result",
          "execution_count": 51,
          "data": {
            "text/plain": "               FeatureName  Importance\n2         behaviorPattern4        True\n3         behaviorPattern5        True\n5         peerUsageMetric4        True\n7             usageMetric2        True\n8             usageMetric3        True\n0           IT Touchpoints       False\n1         behaviorPattern3       False\n4  fraudTraining Completed       False\n6         peerUsageMetric6       False\n9             usageMetric5       False",
            "text/html": "<div>\n<style scoped>\n    .dataframe tbody tr th:only-of-type {\n        vertical-align: middle;\n    }\n\n    .dataframe tbody tr th {\n        vertical-align: top;\n    }\n\n    .dataframe thead th {\n        text-align: right;\n    }\n</style>\n<table border=\"1\" class=\"dataframe\">\n  <thead>\n    <tr style=\"text-align: right;\">\n      <th></th>\n      <th>FeatureName</th>\n      <th>Importance</th>\n    </tr>\n  </thead>\n  <tbody>\n    <tr>\n      <th>2</th>\n      <td>behaviorPattern4</td>\n      <td>True</td>\n    </tr>\n    <tr>\n      <th>3</th>\n      <td>behaviorPattern5</td>\n      <td>True</td>\n    </tr>\n    <tr>\n      <th>5</th>\n      <td>peerUsageMetric4</td>\n      <td>True</td>\n    </tr>\n    <tr>\n      <th>7</th>\n      <td>usageMetric2</td>\n      <td>True</td>\n    </tr>\n    <tr>\n      <th>8</th>\n      <td>usageMetric3</td>\n      <td>True</td>\n    </tr>\n    <tr>\n      <th>0</th>\n      <td>IT Touchpoints</td>\n      <td>False</td>\n    </tr>\n    <tr>\n      <th>1</th>\n      <td>behaviorPattern3</td>\n      <td>False</td>\n    </tr>\n    <tr>\n      <th>4</th>\n      <td>fraudTraining Completed</td>\n      <td>False</td>\n    </tr>\n    <tr>\n      <th>6</th>\n      <td>peerUsageMetric6</td>\n      <td>False</td>\n    </tr>\n    <tr>\n      <th>9</th>\n      <td>usageMetric5</td>\n      <td>False</td>\n    </tr>\n  </tbody>\n</table>\n</div>"
          },
          "metadata": {}
        }
      ],
      "execution_count": 51,
      "metadata": {
        "jupyter": {
          "source_hidden": false,
          "outputs_hidden": false
        },
        "nteract": {
          "transient": {
            "deleting": false
          }
        }
      }
    },
    {
      "cell_type": "markdown",
      "source": [
        "    TODO: Consider an experiment with only the important features"
      ],
      "metadata": {
        "nteract": {
          "transient": {
            "deleting": false
          }
        }
      }
    },
    {
      "cell_type": "markdown",
      "source": [
        "    Third Experiment: Logistic Regression with a prep pipeline"
      ],
      "metadata": {
        "nteract": {
          "transient": {
            "deleting": false
          }
        }
      }
    },
    {
      "cell_type": "code",
      "source": [
        "# Define preprocessing for numeric columns (normalize them so they're on the same scale)\n",
        "numeric_features = [0,1,2,3,4,5,6,7,8,9]\n",
        "numeric_transformer = Pipeline(steps=[\n",
        "    ('scaler', StandardScaler())])\n",
        "\n",
        "# Define preprocessing for categorical features (I did'nt find any categorical feature in the original dataset)\n",
        "#categorical_features = []\n",
        "#categorical_transformer = Pipeline(steps=[\n",
        "#    ('onehot', OneHotEncoder(handle_unknown='ignore'))])\n",
        "\n",
        "# Combine preprocessing steps\n",
        "#preprocessor = ColumnTransformer(\n",
        "#    transformers=[\n",
        "#        ('num', numeric_transformer, numeric_features),\n",
        "#        ('cat', categorical_transformer, categorical_features)])\n",
        "\n",
        "preprocessor = ColumnTransformer(\n",
        "    transformers=[\n",
        "        ('num', numeric_transformer, numeric_features)])\n",
        "\n",
        "# Create preprocessing and training pipeline\n",
        "pipeline = Pipeline(steps=[('preprocessor', preprocessor),\n",
        "                           ('logregressor', LogisticRegression(C=1/reg, solver=\"liblinear\"))])\n",
        "\n",
        "\n",
        "# fit the pipeline to train a logistic regression model on the training set\n",
        "LRplmodel = pipeline.fit(X_train, (y_train))\n",
        "print (LRplmodel)"
      ],
      "outputs": [
        {
          "output_type": "stream",
          "name": "stdout",
          "text": "Pipeline(steps=[('preprocessor',\n                 ColumnTransformer(transformers=[('num',\n                                                  Pipeline(steps=[('scaler',\n                                                                   StandardScaler())]),\n                                                  [0, 1, 2, 3, 4, 5, 6, 7, 8,\n                                                   9])])),\n                ('logregressor',\n                 LogisticRegression(C=100.0, solver='liblinear'))])\n"
        }
      ],
      "execution_count": 52,
      "metadata": {
        "tags": [],
        "gather": {
          "logged": 1647559024351
        }
      }
    },
    {
      "cell_type": "markdown",
      "source": [
        "The pipeline encapsulates the preprocessing steps as well as model training.\n",
        "\n",
        "Let's use the model trained by this pipeline to predict labels for our test set, and compare the performance metrics with the basic model we created previously (second approach)."
      ],
      "metadata": {}
    },
    {
      "cell_type": "markdown",
      "source": [
        "    Evaluating the model & showing the performance metrics"
      ],
      "metadata": {
        "nteract": {
          "transient": {
            "deleting": false
          }
        }
      }
    },
    {
      "cell_type": "code",
      "source": [
        "# Get predictions from test data\n",
        "predictions = LRplmodel.predict(X_test)\n",
        "y_scores = LRplmodel.predict_proba(X_test)\n",
        "\n",
        "# Get evaluation metrics\n",
        "cm = confusion_matrix(y_test, predictions)\n",
        "print ('Confusion Matrix:\\n',cm, '\\n')\n",
        "print('Accuracy:', accuracy_score(y_test, predictions))\n",
        "print(\"Overall Precision:\",precision_score(y_test, predictions))\n",
        "print(\"Overall Recall:\",recall_score(y_test, predictions))\n",
        "auc = roc_auc_score(y_test,y_scores[:,1])\n",
        "print('AUC: ' + str(auc))\n",
        "\n",
        "# calculate ROC curve\n",
        "fpr, tpr, thresholds = roc_curve(y_test, y_scores[:,1])\n",
        "\n",
        "# plot ROC curve\n",
        "fig = plt.figure(figsize=(6, 6))\n",
        "# Plot the diagonal 50% line\n",
        "plt.plot([0, 1], [0, 1], 'k--')\n",
        "# Plot the FPR and TPR achieved by our model\n",
        "plt.plot(fpr, tpr)\n",
        "plt.xlabel('False Positive Rate')\n",
        "plt.ylabel('True Positive Rate')\n",
        "plt.title('ROC Curve')\n",
        "plt.show()\n",
        "\n"
      ],
      "outputs": [
        {
          "output_type": "stream",
          "name": "stdout",
          "text": "Confusion Matrix:\n [[2343 1159]\n [1277 2277]] \n\nAccuracy: 0.6547619047619048\nOverall Precision: 0.6626891734575088\nOverall Recall: 0.640686550365785\nAUC: 0.7136249741686317\n"
        },
        {
          "output_type": "display_data",
          "data": {
            "text/plain": "<Figure size 432x432 with 1 Axes>",
            "image/png": "[encoded data removed]"
          },
          "metadata": {
            "needs_background": "light"
          }
        }
      ],
      "execution_count": 53,
      "metadata": {
        "tags": [],
        "gather": {
          "logged": 1647559173308
        }
      }
    },
    {
      "cell_type": "markdown",
      "source": [
        "The results look a little better, so clearly preprocessing the data has made a difference."
      ],
      "metadata": {}
    },
    {
      "cell_type": "markdown",
      "source": [
        "    Fouth Experiment: Let's try another algorithm **Random Forest** -using a Pipeline-"
      ],
      "metadata": {
        "nteract": {
          "transient": {
            "deleting": false
          }
        }
      }
    },
    {
      "cell_type": "code",
      "source": [
        "# Create preprocessing and training pipeline\n",
        "pipeline = Pipeline(steps=[('preprocessor', preprocessor),\n",
        "                           ('logregressor', RandomForestClassifier(n_estimators=100))])\n",
        "\n",
        "# fit the pipeline to train a random forest model on the training set\n",
        "RFplmodel = pipeline.fit(X_train, (y_train))\n",
        "print (RFplmodel)"
      ],
      "outputs": [
        {
          "output_type": "stream",
          "name": "stdout",
          "text": "Pipeline(steps=[('preprocessor',\n                 ColumnTransformer(transformers=[('num',\n                                                  Pipeline(steps=[('scaler',\n                                                                   StandardScaler())]),\n                                                  [0, 1, 2, 3, 4, 5, 6, 7, 8,\n                                                   9])])),\n                ('logregressor', RandomForestClassifier())])\n"
        }
      ],
      "execution_count": 54,
      "metadata": {
        "tags": [],
        "gather": {
          "logged": 1647559402264
        }
      }
    },
    {
      "cell_type": "markdown",
      "source": [
        "    Let's Evaluate & look at the performance metrics for the new model."
      ],
      "metadata": {}
    },
    {
      "cell_type": "code",
      "source": [
        "predictions = RFplmodel.predict(X_test)\n",
        "y_scores = RFplmodel.predict_proba(X_test)\n",
        "cm = confusion_matrix(y_test, predictions)\n",
        "print ('Confusion Matrix:\\n',cm, '\\n')\n",
        "print('Accuracy:', accuracy_score(y_test, predictions))\n",
        "print(\"Overall Precision:\",precision_score(y_test, predictions))\n",
        "print(\"Overall Recall:\",recall_score(y_test, predictions))\n",
        "auc = roc_auc_score(y_test,y_scores[:,1])\n",
        "print('\\nAUC: ' + str(auc))\n",
        "\n",
        "# calculate ROC curve\n",
        "fpr, tpr, thresholds = roc_curve(y_test, y_scores[:,1])\n",
        "\n",
        "# plot ROC curve\n",
        "fig = plt.figure(figsize=(6, 6))\n",
        "# Plot the diagonal 50% line\n",
        "plt.plot([0, 1], [0, 1], 'k--')\n",
        "# Plot the FPR and TPR achieved by our model\n",
        "plt.plot(fpr, tpr)\n",
        "plt.xlabel('False Positive Rate')\n",
        "plt.ylabel('True Positive Rate')\n",
        "plt.title('ROC Curve')\n",
        "plt.show()"
      ],
      "outputs": [
        {
          "output_type": "stream",
          "name": "stdout",
          "text": "Confusion Matrix:\n [[3016  486]\n [ 562 2992]] \n\nAccuracy: 0.8514739229024944\nOverall Precision: 0.8602645198389879\nOverall Recall: 0.8418683173888576\n\nAUC: 0.9239010299444615\n"
        },
        {
          "output_type": "display_data",
          "data": {
            "text/plain": "<Figure size 432x432 with 1 Axes>",
            "image/png": "[encoded data removed]"
          },
          "metadata": {
            "needs_background": "light"
          }
        }
      ],
      "execution_count": 55,
      "metadata": {
        "tags": [],
        "gather": {
          "logged": 1647559420650
        }
      }
    },
    {
      "cell_type": "markdown",
      "source": [
        "It looks even better!\n",
        "\n",
        "### Deployment\n",
        "\n",
        "\n",
        "    Saving the model\n",
        "\n",
        "\n",
        "Now that we have a reasonably useful trained model, we can save it for use later to predict labels for new data:"
      ],
      "metadata": {}
    },
    {
      "cell_type": "code",
      "source": [
        "# Save the model as a pickle file\n",
        "filename = './PsishingAttackXYZ_RFmodel.pkl'\n",
        "joblib.dump(RFplmodel, filename)"
      ],
      "outputs": [
        {
          "output_type": "execute_result",
          "execution_count": 56,
          "data": {
            "text/plain": "['./PsishingAttackXYZ_RFmodel.pkl']"
          },
          "metadata": {}
        }
      ],
      "execution_count": 56,
      "metadata": {
        "gather": {
          "logged": 1647560016277
        }
      }
    },
    {
      "cell_type": "markdown",
      "source": [
        "    Registering model"
      ],
      "metadata": {
        "nteract": {
          "transient": {
            "deleting": false
          }
        }
      }
    },
    {
      "cell_type": "code",
      "source": [
        "ws = Workspace.from_config()\n",
        "\n",
        "#train_features, test_features, train_labels, test_labels\n",
        "\n",
        "model = Model.register(workspace=ws,\n",
        "                       model_name='PishingAttack-RFModel',                # Name of the registered model in your workspace.\n",
        "                       model_path=filename,  # Local file to upload and register as a model.\n",
        "                       model_framework=Model.Framework.SCIKITLEARN,  # Framework used to create the model.\n",
        "                       model_framework_version=sklearn.__version__,  # Version of scikit-learn used to create the model.                       \n",
        "                       resource_configuration=ResourceConfiguration(cpu=1, memory_in_gb=4),\n",
        "                       description='Random Forest to predict Pishing Attack.'\n",
        "                       )\n",
        "\n",
        "print('Name:', model.name)\n",
        "print('Version:', model.version)"
      ],
      "outputs": [
        {
          "output_type": "stream",
          "name": "stdout",
          "text": "Registering model PishingAttack-RFModel\nName: PishingAttack-RFModel\nVersion: 1\n"
        }
      ],
      "execution_count": 57,
      "metadata": {
        "jupyter": {
          "source_hidden": false,
          "outputs_hidden": false
        },
        "nteract": {
          "transient": {
            "deleting": false
          }
        },
        "gather": {
          "logged": 1647619270245
        }
      }
    },
    {
      "cell_type": "markdown",
      "source": [
        "    Generating the score file"
      ],
      "metadata": {
        "nteract": {
          "transient": {
            "deleting": false
          }
        }
      }
    },
    {
      "cell_type": "code",
      "source": [
        "%%writefile score.py\n",
        "\n",
        "def init():\n",
        "    global model\n",
        "    # Replace filename if needed.\n",
        "    path = os.getenv('AZUREML_MODEL_DIR') \n",
        "    #model_path = os.path.join(path, 'EmployeeLeftXYZ_model.pkl')\n",
        "    model_path = filename\n",
        "    # Deserialize the model file back into a sklearn model.\n",
        "    model = joblib.load(model_path)\n",
        "\n",
        "    \n",
        "input_sample = pd.DataFrame(data=[{    \n",
        "    \"IT Touchpoints\": 2,\n",
        "    \"behaviorPattern3\": 2,\n",
        "    \"behaviorPattern4\": 5,\n",
        "    \"behaviorPattern5\":4,\n",
        "    \"fraudTraining Completed\":1,\n",
        "    \"peerUsageMetric4\":3,\n",
        "    \"peerUsageMetric6\":0,\n",
        "    \"usageMetric2\": 2,\n",
        "    \"usageMetric3\":0,\n",
        "    \"usageMetric5\":2\n",
        "}])\n",
        "\n",
        "\n",
        "# This is an integer type sample. Use the data type that reflects the expected result.\n",
        "output_sample = np.array([0])\n",
        "\n",
        "# To indicate that we support a variable length of data input,\n",
        "# set enforce_shape=False\n",
        "@input_schema('data', PandasParameterType(input_sample))\n",
        "@output_schema(NumpyParameterType(output_sample))\n",
        "def run(data):\n",
        "    try:\n",
        "        print(\"input_data....\")\n",
        "        print(data.columns)\n",
        "        print(type(data))\n",
        "        result = model.predict(data)\n",
        "        print(\"result.....\")\n",
        "        print(result)\n",
        "    # You can return any data type, as long as it can be serialized by JSON.\n",
        "        return result.tolist()\n",
        "    except Exception as e:\n",
        "        error = str(e)\n",
        "        return error"
      ],
      "outputs": [
        {
          "output_type": "stream",
          "name": "stdout",
          "text": "Writing score.py\n"
        }
      ],
      "execution_count": 58,
      "metadata": {
        "jupyter": {
          "source_hidden": false,
          "outputs_hidden": false
        },
        "nteract": {
          "transient": {
            "deleting": false
          }
        }
      }
    },
    {
      "cell_type": "markdown",
      "source": [
        "    Establishing Environment"
      ],
      "metadata": {
        "nteract": {
          "transient": {
            "deleting": false
          }
        }
      }
    },
    {
      "cell_type": "code",
      "source": [
        "environment = Environment('my-sklearn-environment')\n",
        "environment.python.conda_dependencies = CondaDependencies.create(pip_packages=[\n",
        "    'azureml-defaults',\n",
        "    'inference-schema[numpy-support]',\n",
        "    'joblib',\n",
        "    'numpy',\n",
        "    'pandas',\n",
        "    'scikit-learn=={}'.format(sklearn.__version__)\n",
        "])\n",
        "\n",
        "inference_config = InferenceConfig(entry_script='./score.py',environment=environment)\n"
      ],
      "outputs": [],
      "execution_count": 59,
      "metadata": {
        "jupyter": {
          "source_hidden": false,
          "outputs_hidden": false
        },
        "nteract": {
          "transient": {
            "deleting": false
          }
        },
        "gather": {
          "logged": 1647619321692
        }
      }
    },
    {
      "cell_type": "markdown",
      "source": [
        "    Deployment to a Test Environemnto with ACI"
      ],
      "metadata": {
        "nteract": {
          "transient": {
            "deleting": false
          }
        }
      }
    },
    {
      "cell_type": "code",
      "source": [
        "deployment_config = AciWebservice.deploy_configuration(cpu_cores = 1, memory_gb = 1)\n",
        "service = Model.deploy(ws, \"aciservice1\", [model], inference_config, deployment_config)\n",
        "service.wait_for_deployment(show_output = True)\n",
        "print(service.state)"
      ],
      "outputs": [],
      "execution_count": null,
      "metadata": {
        "jupyter": {
          "source_hidden": false,
          "outputs_hidden": false
        },
        "nteract": {
          "transient": {
            "deleting": false
          }
        }
      }
    },
    {
      "cell_type": "markdown",
      "source": [
        "    Looking for / creating an AKS cluster for PROD purposes"
      ],
      "metadata": {
        "nteract": {
          "transient": {
            "deleting": false
          }
        }
      }
    },
    {
      "cell_type": "code",
      "source": [
        "from azureml.core.compute import ComputeTarget\n",
        "from azureml.core.compute_target import ComputeTargetException\n",
        "\n",
        "# Choose a name for your AKS cluster\n",
        "aks_name = 'InferenceCluster' \n",
        "\n",
        "# Verify that cluster does not exist already\n",
        "try:\n",
        "    aks_target = ComputeTarget(workspace=ws, name=aks_name)\n",
        "    print('Found existing cluster, use it.')\n",
        "except ComputeTargetException:\n",
        "    # Use the default configuration (can also provide parameters to customize)\n",
        "    prov_config = AksCompute.provisioning_configuration()\n",
        "\n",
        "    # Create the cluster\n",
        "    aks_target = ComputeTarget.create(workspace = ws, \n",
        "                                    name = aks_name, \n",
        "                                    provisioning_configuration = prov_config)\n",
        "\n",
        "if aks_target.get_status() != \"Succeeded\":\n",
        "    aks_target.wait_for_completion(show_output=True)"
      ],
      "outputs": [],
      "execution_count": null,
      "metadata": {
        "jupyter": {
          "source_hidden": false,
          "outputs_hidden": false
        },
        "nteract": {
          "transient": {
            "deleting": false
          }
        },
        "gather": {
          "logged": 1647620267207
        }
      }
    },
    {
      "cell_type": "markdown",
      "source": [
        "    Setting up the configuration    "
      ],
      "metadata": {
        "nteract": {
          "transient": {
            "deleting": false
          }
        }
      }
    },
    {
      "cell_type": "code",
      "source": [
        "from azureml.core import Workspace\n",
        "from azureml.core.compute import AksCompute, ComputeTarget\n",
        "from azureml.core.webservice import Webservice, AksWebservice\n",
        "\n",
        "# Set the web service configuration (using default here)\n",
        "aks_config = AksWebservice.deploy_configuration()\n",
        "\n",
        "# # Enable token auth and disable (key) auth on the webservice\n",
        "# aks_config = AksWebservice.deploy_configuration(token_auth_enabled=True, auth_enabled=False)"
      ],
      "outputs": [],
      "execution_count": null,
      "metadata": {
        "jupyter": {
          "source_hidden": false,
          "outputs_hidden": false
        },
        "nteract": {
          "transient": {
            "deleting": false
          }
        },
        "gather": {
          "logged": 1647620425702
        }
      }
    },
    {
      "cell_type": "markdown",
      "source": [
        "    PROD Deployment in an AKS cluster"
      ],
      "metadata": {
        "nteract": {
          "transient": {
            "deleting": false
          }
        }
      }
    },
    {
      "cell_type": "code",
      "source": [
        "%%time\n",
        "aks_service_name ='employeeleftxyz-rf-3'\n",
        "\n",
        "aks_service = Model.deploy(workspace=ws,\n",
        "                           name=aks_service_name,\n",
        "                           models=[model],\n",
        "                           inference_config=inference_config,\n",
        "                           deployment_config=aks_config,\n",
        "                           deployment_target=aks_target)\n",
        "\n",
        "aks_service.wait_for_deployment(show_output = True)\n",
        "print(aks_service.state)"
      ],
      "outputs": [],
      "execution_count": null,
      "metadata": {
        "jupyter": {
          "source_hidden": false,
          "outputs_hidden": false
        },
        "nteract": {
          "transient": {
            "deleting": false
          }
        }
      }
    },
    {
      "cell_type": "markdown",
      "source": [
        "    TODO: Consider a MLOps strategy including CI & CD tasks"
      ],
      "metadata": {
        "nteract": {
          "transient": {
            "deleting": false
          }
        }
      }
    },
    {
      "cell_type": "markdown",
      "source": [
        "# THE END, THANKS AWESOME PROGRAM EDSP!!!!!!! I LEARNED A LOT!!!!"
      ],
      "metadata": {
        "nteract": {
          "transient": {
            "deleting": false
          }
        }
      }
    }
  ],
  "metadata": {
    "kernelspec": {
      "name": "python3-azureml",
      "language": "python",
      "display_name": "Python 3.6 - AzureML"
    },
    "language_info": {
      "name": "python",
      "version": "3.6.9",
      "mimetype": "text/x-python",
      "codemirror_mode": {
        "name": "ipython",
        "version": 3
      },
      "pygments_lexer": "ipython3",
      "nbconvert_exporter": "python",
      "file_extension": ".py"
    },
    "kernel_info": {
      "name": "python3-azureml"
    },
    "nteract": {
      "version": "nteract-front-end@1.0.0"
    },
    "microsoft": {
      "host": {
        "AzureML": {
          "notebookHasBeenCompleted": true
        }
      }
    }
  },
  "nbformat": 4,
  "nbformat_minor": 0
}