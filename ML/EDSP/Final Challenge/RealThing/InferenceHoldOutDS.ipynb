{
  "cells": [
    {
      "cell_type": "markdown",
      "source": [
        "# Inference Notebook for the holdout dataset -Phishing Attack Prediction-"
      ],
      "metadata": {
        "nteract": {
          "transient": {
            "deleting": false
          }
        }
      }
    },
    {
      "cell_type": "markdown",
      "source": [
        "    Import libraries"
      ],
      "metadata": {
        "nteract": {
          "transient": {
            "deleting": false
          }
        }
      }
    },
    {
      "cell_type": "code",
      "source": [
        "#Model management\r\n",
        "import joblib\r\n",
        "#Data processing\r\n",
        "import numpy as np\r\n",
        "import pandas as pd\r\n",
        "#Model metrics\r\n",
        "from sklearn.metrics import accuracy_score\r\n",
        "from sklearn. metrics import classification_report\r\n",
        "from sklearn.metrics import precision_score, recall_score\r\n",
        "from sklearn.metrics import confusion_matrix\r\n",
        "from sklearn.metrics import roc_curve\r\n",
        "from sklearn.metrics import roc_auc_score\r\n",
        "#Visualization\r\n",
        "import matplotlib\r\n",
        "import matplotlib.pyplot as plt"
      ],
      "outputs": [],
      "execution_count": 24,
      "metadata": {
        "jupyter": {
          "source_hidden": false,
          "outputs_hidden": false
        },
        "nteract": {
          "transient": {
            "deleting": false
          }
        }
      }
    },
    {
      "cell_type": "markdown",
      "source": [
        "    Reading HoldOut Dataset"
      ],
      "metadata": {
        "nteract": {
          "transient": {
            "deleting": false
          }
        }
      }
    },
    {
      "cell_type": "code",
      "source": [
        "df_holdout = pd.read_csv('My_HoldOut_dataset.csv')\r\n",
        "df_holdout.head()"
      ],
      "outputs": [
        {
          "output_type": "execute_result",
          "execution_count": 25,
          "data": {
            "text/plain": "   IT Touchpoints  behaviorPattern3  behaviorPattern4  \\\n0               2                 2                 5   \n1               0                 3                 1   \n2               0                 0                 1   \n3               6                 0                 5   \n4               0                 0                 2   \n\n   EmployeeTargetedOverPastYear  behaviorPattern5  peerUsageMetric4  \\\n0                             1                 4                 3   \n1                             0                 3                 1   \n2                             1                 6                 2   \n3                             1                 0                 3   \n4                             1                 1                 4   \n\n   peerUsageMetric6  usageMetric2  fraudTraining Completed  usageMetric3  \\\n0                 0             2                        1             0   \n1                 1             2                        0             2   \n2                 0             3                        1             0   \n3                 1             3                        0             1   \n4                 1             0                        0             0   \n\n   usageMetric5  \n0             2  \n1             2  \n2             1  \n3             1  \n4             0  ",
            "text/html": "<div>\n<style scoped>\n    .dataframe tbody tr th:only-of-type {\n        vertical-align: middle;\n    }\n\n    .dataframe tbody tr th {\n        vertical-align: top;\n    }\n\n    .dataframe thead th {\n        text-align: right;\n    }\n</style>\n<table border=\"1\" class=\"dataframe\">\n  <thead>\n    <tr style=\"text-align: right;\">\n      <th></th>\n      <th>IT Touchpoints</th>\n      <th>behaviorPattern3</th>\n      <th>behaviorPattern4</th>\n      <th>EmployeeTargetedOverPastYear</th>\n      <th>behaviorPattern5</th>\n      <th>peerUsageMetric4</th>\n      <th>peerUsageMetric6</th>\n      <th>usageMetric2</th>\n      <th>fraudTraining Completed</th>\n      <th>usageMetric3</th>\n      <th>usageMetric5</th>\n    </tr>\n  </thead>\n  <tbody>\n    <tr>\n      <th>0</th>\n      <td>2</td>\n      <td>2</td>\n      <td>5</td>\n      <td>1</td>\n      <td>4</td>\n      <td>3</td>\n      <td>0</td>\n      <td>2</td>\n      <td>1</td>\n      <td>0</td>\n      <td>2</td>\n    </tr>\n    <tr>\n      <th>1</th>\n      <td>0</td>\n      <td>3</td>\n      <td>1</td>\n      <td>0</td>\n      <td>3</td>\n      <td>1</td>\n      <td>1</td>\n      <td>2</td>\n      <td>0</td>\n      <td>2</td>\n      <td>2</td>\n    </tr>\n    <tr>\n      <th>2</th>\n      <td>0</td>\n      <td>0</td>\n      <td>1</td>\n      <td>1</td>\n      <td>6</td>\n      <td>2</td>\n      <td>0</td>\n      <td>3</td>\n      <td>1</td>\n      <td>0</td>\n      <td>1</td>\n    </tr>\n    <tr>\n      <th>3</th>\n      <td>6</td>\n      <td>0</td>\n      <td>5</td>\n      <td>1</td>\n      <td>0</td>\n      <td>3</td>\n      <td>1</td>\n      <td>3</td>\n      <td>0</td>\n      <td>1</td>\n      <td>1</td>\n    </tr>\n    <tr>\n      <th>4</th>\n      <td>0</td>\n      <td>0</td>\n      <td>2</td>\n      <td>1</td>\n      <td>1</td>\n      <td>4</td>\n      <td>1</td>\n      <td>0</td>\n      <td>0</td>\n      <td>0</td>\n      <td>0</td>\n    </tr>\n  </tbody>\n</table>\n</div>"
          },
          "metadata": {}
        }
      ],
      "execution_count": 25,
      "metadata": {
        "jupyter": {
          "source_hidden": false,
          "outputs_hidden": false
        },
        "nteract": {
          "transient": {
            "deleting": false
          }
        }
      }
    },
    {
      "cell_type": "markdown",
      "source": [
        "    Analyzing and adjusting according to the expected model input data"
      ],
      "metadata": {
        "nteract": {
          "transient": {
            "deleting": false
          }
        }
      }
    },
    {
      "cell_type": "code",
      "source": [
        "df_holdout.shape"
      ],
      "outputs": [
        {
          "output_type": "execute_result",
          "execution_count": 26,
          "data": {
            "text/plain": "(10, 11)"
          },
          "metadata": {}
        }
      ],
      "execution_count": 26,
      "metadata": {
        "jupyter": {
          "source_hidden": false,
          "outputs_hidden": false
        },
        "nteract": {
          "transient": {
            "deleting": false
          }
        }
      }
    },
    {
      "cell_type": "markdown",
      "source": [
        "    Rearrange columns"
      ],
      "metadata": {
        "nteract": {
          "transient": {
            "deleting": false
          }
        }
      }
    },
    {
      "cell_type": "code",
      "source": [
        "df_holdout = df_holdout[['EmployeeTargetedOverPastYear','IT Touchpoints','behaviorPattern3','behaviorPattern4','behaviorPattern5','fraudTraining Completed',\"peerUsageMetric4\",\"peerUsageMetric6\",\"usageMetric2\", \"usageMetric3\", \"usageMetric5\"]]\r\n",
        "df_holdout.head()"
      ],
      "outputs": [
        {
          "output_type": "execute_result",
          "execution_count": 27,
          "data": {
            "text/plain": "   EmployeeTargetedOverPastYear  IT Touchpoints  behaviorPattern3  \\\n0                             1               2                 2   \n1                             0               0                 3   \n2                             1               0                 0   \n3                             1               6                 0   \n4                             1               0                 0   \n\n   behaviorPattern4  behaviorPattern5  fraudTraining Completed  \\\n0                 5                 4                        1   \n1                 1                 3                        0   \n2                 1                 6                        1   \n3                 5                 0                        0   \n4                 2                 1                        0   \n\n   peerUsageMetric4  peerUsageMetric6  usageMetric2  usageMetric3  \\\n0                 3                 0             2             0   \n1                 1                 1             2             2   \n2                 2                 0             3             0   \n3                 3                 1             3             1   \n4                 4                 1             0             0   \n\n   usageMetric5  \n0             2  \n1             2  \n2             1  \n3             1  \n4             0  ",
            "text/html": "<div>\n<style scoped>\n    .dataframe tbody tr th:only-of-type {\n        vertical-align: middle;\n    }\n\n    .dataframe tbody tr th {\n        vertical-align: top;\n    }\n\n    .dataframe thead th {\n        text-align: right;\n    }\n</style>\n<table border=\"1\" class=\"dataframe\">\n  <thead>\n    <tr style=\"text-align: right;\">\n      <th></th>\n      <th>EmployeeTargetedOverPastYear</th>\n      <th>IT Touchpoints</th>\n      <th>behaviorPattern3</th>\n      <th>behaviorPattern4</th>\n      <th>behaviorPattern5</th>\n      <th>fraudTraining Completed</th>\n      <th>peerUsageMetric4</th>\n      <th>peerUsageMetric6</th>\n      <th>usageMetric2</th>\n      <th>usageMetric3</th>\n      <th>usageMetric5</th>\n    </tr>\n  </thead>\n  <tbody>\n    <tr>\n      <th>0</th>\n      <td>1</td>\n      <td>2</td>\n      <td>2</td>\n      <td>5</td>\n      <td>4</td>\n      <td>1</td>\n      <td>3</td>\n      <td>0</td>\n      <td>2</td>\n      <td>0</td>\n      <td>2</td>\n    </tr>\n    <tr>\n      <th>1</th>\n      <td>0</td>\n      <td>0</td>\n      <td>3</td>\n      <td>1</td>\n      <td>3</td>\n      <td>0</td>\n      <td>1</td>\n      <td>1</td>\n      <td>2</td>\n      <td>2</td>\n      <td>2</td>\n    </tr>\n    <tr>\n      <th>2</th>\n      <td>1</td>\n      <td>0</td>\n      <td>0</td>\n      <td>1</td>\n      <td>6</td>\n      <td>1</td>\n      <td>2</td>\n      <td>0</td>\n      <td>3</td>\n      <td>0</td>\n      <td>1</td>\n    </tr>\n    <tr>\n      <th>3</th>\n      <td>1</td>\n      <td>6</td>\n      <td>0</td>\n      <td>5</td>\n      <td>0</td>\n      <td>0</td>\n      <td>3</td>\n      <td>1</td>\n      <td>3</td>\n      <td>1</td>\n      <td>1</td>\n    </tr>\n    <tr>\n      <th>4</th>\n      <td>1</td>\n      <td>0</td>\n      <td>0</td>\n      <td>2</td>\n      <td>1</td>\n      <td>0</td>\n      <td>4</td>\n      <td>1</td>\n      <td>0</td>\n      <td>0</td>\n      <td>0</td>\n    </tr>\n  </tbody>\n</table>\n</div>"
          },
          "metadata": {}
        }
      ],
      "execution_count": 27,
      "metadata": {
        "jupyter": {
          "source_hidden": false,
          "outputs_hidden": false
        },
        "nteract": {
          "transient": {
            "deleting": false
          }
        }
      }
    },
    {
      "cell_type": "markdown",
      "source": [
        "    Separating Inference freatures from known label"
      ],
      "metadata": {
        "nteract": {
          "transient": {
            "deleting": false
          }
        }
      }
    },
    {
      "cell_type": "code",
      "source": [
        "inferencefeatures = ['IT Touchpoints','behaviorPattern3','behaviorPattern4','behaviorPattern5','fraudTraining Completed',\"peerUsageMetric4\",\"peerUsageMetric6\",\"usageMetric2\", \"usageMetric3\", \"usageMetric5\"]\r\n",
        "inferencelabel = 'EmployeeTargetedOverPastYear'\r\n",
        "X_inf, y_inf = df_holdout[inferencefeatures].values, df_holdout[inferencelabel].values\r\n",
        "\r\n",
        "for n in range(0,5):\r\n",
        "    print(\"Employee\", str(n+1), \"\\n  Features:\",list(X_inf[n]), \"\\n  Label:\", y_inf[n])"
      ],
      "outputs": [
        {
          "output_type": "stream",
          "name": "stdout",
          "text": "Employee 1 \n  Features: [2, 2, 5, 4, 1, 3, 0, 2, 0, 2] \n  Label: 1\nEmployee 2 \n  Features: [0, 3, 1, 3, 0, 1, 1, 2, 2, 2] \n  Label: 0\nEmployee 3 \n  Features: [0, 0, 1, 6, 1, 2, 0, 3, 0, 1] \n  Label: 1\nEmployee 4 \n  Features: [6, 0, 5, 0, 0, 3, 1, 3, 1, 1] \n  Label: 1\nEmployee 5 \n  Features: [0, 0, 2, 1, 0, 4, 1, 0, 0, 0] \n  Label: 1\n"
        }
      ],
      "execution_count": 28,
      "metadata": {
        "jupyter": {
          "source_hidden": false,
          "outputs_hidden": false
        },
        "nteract": {
          "transient": {
            "deleting": false
          }
        }
      }
    },
    {
      "cell_type": "markdown",
      "source": [
        "    Inferencing with some new observations, we can load the model and use it to predict values for the holout dataset:"
      ],
      "metadata": {
        "nteract": {
          "transient": {
            "deleting": false
          }
        }
      }
    },
    {
      "cell_type": "code",
      "source": [
        "# Load the model from the file\r\n",
        "model = joblib.load('./PsishingAttackXYZ_RFmodel.pkl')\r\n",
        "\r\n",
        "# predict on a new sample\r\n",
        "# The model accepts an array of feature arrays (so you can predict the classes of multiple patients in a single call)\r\n",
        "# We'll create an array with a single array of features, representing one patient\r\n",
        "#X_new = np.array([[2,2,5,4,1,3,0,2,0,2],\r\n",
        "#                  [0,3,1,3,0,1,1,2,2,2]])\r\n",
        "X_new = X_inf\r\n",
        "print ('New sample: {}'.format(list(X_new)))\r\n",
        "\r\n",
        "# Get a prediction\r\n",
        "pred = model.predict(X_new)\r\n",
        "\r\n",
        "# The model returns an array of predictions - one for each set of features submitted\r\n",
        "# In our case, we only submitted one patient, so our prediction is the first one in the resulting array.\r\n",
        "print('Predicted class is {}'.format(pred))"
      ],
      "outputs": [
        {
          "output_type": "stream",
          "name": "stdout",
          "text": "New sample: [array([2, 2, 5, 4, 1, 3, 0, 2, 0, 2]), array([0, 3, 1, 3, 0, 1, 1, 2, 2, 2]), array([0, 0, 1, 6, 1, 2, 0, 3, 0, 1]), array([6, 0, 5, 0, 0, 3, 1, 3, 1, 1]), array([0, 0, 2, 1, 0, 4, 1, 0, 0, 0]), array([0, 3, 3, 5, 0, 3, 1, 1, 1, 0]), array([2, 0, 3, 6, 1, 3, 1, 0, 2, 0]), array([0, 3, 1, 3, 0, 2, 1, 3, 2, 0]), array([0, 2, 5, 6, 1, 3, 0, 0, 1, 1]), array([0, 2, 5, 6, 0, 2, 0, 1, 2, 0])]\nPredicted class is [1. 0. 1. 1. 1. 1. 1. 1. 1. 1.]\n"
        }
      ],
      "execution_count": 29,
      "metadata": {
        "jupyter": {
          "source_hidden": false,
          "outputs_hidden": false
        },
        "nteract": {
          "transient": {
            "deleting": false
          }
        }
      }
    },
    {
      "cell_type": "markdown",
      "source": [
        "    Reviewing predictions: Putting all together -features, known labels, predicted labels-"
      ],
      "metadata": {
        "nteract": {
          "transient": {
            "deleting": false
          }
        }
      }
    },
    {
      "cell_type": "code",
      "source": [
        "df_features = pd.DataFrame(X_new, columns=['IT Touchpoints','behaviorPattern3','behaviorPattern4','behaviorPattern5','fraudTraining Completed',\"peerUsageMetric4\",\"peerUsageMetric6\",\"usageMetric2\", \"usageMetric3\", \"usageMetric5\"])\r\n",
        "#df_features.head()"
      ],
      "outputs": [],
      "execution_count": 30,
      "metadata": {
        "jupyter": {
          "source_hidden": false,
          "outputs_hidden": false
        },
        "nteract": {
          "transient": {
            "deleting": false
          }
        }
      }
    },
    {
      "cell_type": "code",
      "source": [
        "df_Knowlabels = pd.DataFrame(y_inf, columns=['EmployeeTargetedOverPastYear'])\r\n",
        "#df_Knowlabels.head()"
      ],
      "outputs": [],
      "execution_count": 31,
      "metadata": {
        "jupyter": {
          "source_hidden": false,
          "outputs_hidden": false
        },
        "nteract": {
          "transient": {
            "deleting": false
          }
        }
      }
    },
    {
      "cell_type": "code",
      "source": [
        "df_predictedlabels = pd.DataFrame(pred, columns=['PredictedEmployeeTargetedOverPastYear'])\r\n",
        "#df_predictedlabels.head()"
      ],
      "outputs": [],
      "execution_count": 32,
      "metadata": {
        "jupyter": {
          "source_hidden": false,
          "outputs_hidden": false
        },
        "nteract": {
          "transient": {
            "deleting": false
          }
        }
      }
    },
    {
      "cell_type": "code",
      "source": [
        "extracted_coldfknowlabels = df_Knowlabels[\"EmployeeTargetedOverPastYear\"]\r\n",
        "extracted_coldfpredictedvalues = df_predictedlabels[\"PredictedEmployeeTargetedOverPastYear\"]\r\n",
        "  \r\n",
        "df_features = df_features.join(extracted_coldfknowlabels)\r\n",
        "df_features = df_features.join(extracted_coldfpredictedvalues)\r\n",
        "df_features.head()"
      ],
      "outputs": [
        {
          "output_type": "execute_result",
          "execution_count": 33,
          "data": {
            "text/plain": "   IT Touchpoints  behaviorPattern3  behaviorPattern4  behaviorPattern5  \\\n0               2                 2                 5                 4   \n1               0                 3                 1                 3   \n2               0                 0                 1                 6   \n3               6                 0                 5                 0   \n4               0                 0                 2                 1   \n\n   fraudTraining Completed  peerUsageMetric4  peerUsageMetric6  usageMetric2  \\\n0                        1                 3                 0             2   \n1                        0                 1                 1             2   \n2                        1                 2                 0             3   \n3                        0                 3                 1             3   \n4                        0                 4                 1             0   \n\n   usageMetric3  usageMetric5  EmployeeTargetedOverPastYear  \\\n0             0             2                             1   \n1             2             2                             0   \n2             0             1                             1   \n3             1             1                             1   \n4             0             0                             1   \n\n   PredictedEmployeeTargetedOverPastYear  \n0                                    1.0  \n1                                    0.0  \n2                                    1.0  \n3                                    1.0  \n4                                    1.0  ",
            "text/html": "<div>\n<style scoped>\n    .dataframe tbody tr th:only-of-type {\n        vertical-align: middle;\n    }\n\n    .dataframe tbody tr th {\n        vertical-align: top;\n    }\n\n    .dataframe thead th {\n        text-align: right;\n    }\n</style>\n<table border=\"1\" class=\"dataframe\">\n  <thead>\n    <tr style=\"text-align: right;\">\n      <th></th>\n      <th>IT Touchpoints</th>\n      <th>behaviorPattern3</th>\n      <th>behaviorPattern4</th>\n      <th>behaviorPattern5</th>\n      <th>fraudTraining Completed</th>\n      <th>peerUsageMetric4</th>\n      <th>peerUsageMetric6</th>\n      <th>usageMetric2</th>\n      <th>usageMetric3</th>\n      <th>usageMetric5</th>\n      <th>EmployeeTargetedOverPastYear</th>\n      <th>PredictedEmployeeTargetedOverPastYear</th>\n    </tr>\n  </thead>\n  <tbody>\n    <tr>\n      <th>0</th>\n      <td>2</td>\n      <td>2</td>\n      <td>5</td>\n      <td>4</td>\n      <td>1</td>\n      <td>3</td>\n      <td>0</td>\n      <td>2</td>\n      <td>0</td>\n      <td>2</td>\n      <td>1</td>\n      <td>1.0</td>\n    </tr>\n    <tr>\n      <th>1</th>\n      <td>0</td>\n      <td>3</td>\n      <td>1</td>\n      <td>3</td>\n      <td>0</td>\n      <td>1</td>\n      <td>1</td>\n      <td>2</td>\n      <td>2</td>\n      <td>2</td>\n      <td>0</td>\n      <td>0.0</td>\n    </tr>\n    <tr>\n      <th>2</th>\n      <td>0</td>\n      <td>0</td>\n      <td>1</td>\n      <td>6</td>\n      <td>1</td>\n      <td>2</td>\n      <td>0</td>\n      <td>3</td>\n      <td>0</td>\n      <td>1</td>\n      <td>1</td>\n      <td>1.0</td>\n    </tr>\n    <tr>\n      <th>3</th>\n      <td>6</td>\n      <td>0</td>\n      <td>5</td>\n      <td>0</td>\n      <td>0</td>\n      <td>3</td>\n      <td>1</td>\n      <td>3</td>\n      <td>1</td>\n      <td>1</td>\n      <td>1</td>\n      <td>1.0</td>\n    </tr>\n    <tr>\n      <th>4</th>\n      <td>0</td>\n      <td>0</td>\n      <td>2</td>\n      <td>1</td>\n      <td>0</td>\n      <td>4</td>\n      <td>1</td>\n      <td>0</td>\n      <td>0</td>\n      <td>0</td>\n      <td>1</td>\n      <td>1.0</td>\n    </tr>\n  </tbody>\n</table>\n</div>"
          },
          "metadata": {}
        }
      ],
      "execution_count": 33,
      "metadata": {
        "jupyter": {
          "source_hidden": false,
          "outputs_hidden": false
        },
        "nteract": {
          "transient": {
            "deleting": false
          }
        }
      }
    },
    {
      "cell_type": "markdown",
      "source": [
        "    Evaluating model performance for the inference"
      ],
      "metadata": {
        "nteract": {
          "transient": {
            "deleting": false
          }
        }
      }
    },
    {
      "cell_type": "code",
      "source": [
        "predictionsinf = pred\r\n",
        "y_scores = model.predict_proba(X_new)\r\n",
        "cm = confusion_matrix(y_inf, predictionsinf)\r\n",
        "print ('Confusion Matrix:\\n',cm, '\\n')\r\n",
        "print('Accuracy:', accuracy_score(y_inf, predictionsinf))\r\n",
        "print(\"Overall Precision:\",precision_score(y_inf, predictionsinf))\r\n",
        "print(\"Overall Recall:\",recall_score(y_inf, predictionsinf))\r\n",
        "auc = roc_auc_score(y_inf,y_scores[:,1])\r\n",
        "print('\\nAUC: ' + str(auc))\r\n",
        "\r\n",
        "# calculate ROC curve\r\n",
        "fpr, tpr, thresholds = roc_curve(y_inf, y_scores[:,1])\r\n",
        "\r\n",
        "# plot ROC curve\r\n",
        "fig = plt.figure(figsize=(6, 6))\r\n",
        "# Plot the diagonal 50% line\r\n",
        "plt.plot([0, 1], [0, 1], 'k--')\r\n",
        "# Plot the FPR and TPR achieved by our model\r\n",
        "plt.plot(fpr, tpr)\r\n",
        "plt.xlabel('False Positive Rate')\r\n",
        "plt.ylabel('True Positive Rate')\r\n",
        "plt.title('ROC Curve')\r\n",
        "plt.show()"
      ],
      "outputs": [
        {
          "output_type": "stream",
          "name": "stdout",
          "text": "Confusion Matrix:\n [[1 0]\n [0 9]] \n\nAccuracy: 1.0\nOverall Precision: 1.0\nOverall Recall: 1.0\n\nAUC: 1.0\n"
        },
        {
          "output_type": "display_data",
          "data": {
            "text/plain": "<Figure size 600x600 with 1 Axes>",
            "image/png": "[encoded data removed]"
          },
          "metadata": {}
        }
      ],
      "execution_count": 34,
      "metadata": {
        "jupyter": {
          "source_hidden": false,
          "outputs_hidden": false
        },
        "nteract": {
          "transient": {
            "deleting": false
          }
        }
      }
    },
    {
      "cell_type": "markdown",
      "source": [
        "    Just a snippet to test the WS endpoint Rest Full"
      ],
      "metadata": {
        "nteract": {
          "transient": {
            "deleting": false
          }
        }
      }
    },
    {
      "cell_type": "code",
      "source": [
        "#Input Data to test the WS Rest Full\r\n",
        "#{\r\n",
        "#  \"data\": [[0,3,1,3,0,1,1,2,2,2],\r\n",
        "#           [2,2,5,4,1,3,0,2,0,2]],\r\n",
        "#  \"method\": \"predict_proba\"\r\n",
        "#}"
      ],
      "outputs": [],
      "execution_count": null,
      "metadata": {
        "jupyter": {
          "source_hidden": false,
          "outputs_hidden": false
        },
        "nteract": {
          "transient": {
            "deleting": false
          }
        }
      }
    },
    {
      "cell_type": "markdown",
      "source": [
        "# END OF THE INFERENCE NOTEBOOK"
      ],
      "metadata": {
        "nteract": {
          "transient": {
            "deleting": false
          }
        }
      }
    }
  ],
  "metadata": {
    "kernelspec": {
      "name": "python38-azureml",
      "language": "python",
      "display_name": "Python 3.8 - AzureML"
    },
    "language_info": {
      "name": "python",
      "version": "3.8.1",
      "mimetype": "text/x-python",
      "codemirror_mode": {
        "name": "ipython",
        "version": 3
      },
      "pygments_lexer": "ipython3",
      "nbconvert_exporter": "python",
      "file_extension": ".py"
    },
    "kernel_info": {
      "name": "python38-azureml"
    },
    "nteract": {
      "version": "nteract-front-end@1.0.0"
    }
  },
  "nbformat": 4,
  "nbformat_minor": 0
}